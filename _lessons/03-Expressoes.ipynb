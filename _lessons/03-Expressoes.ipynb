{
 "cells": [
  {
   "cell_type": "markdown",
   "metadata": {
    "slideshow": {
     "slide_type": "slide"
    }
   },
   "source": [
    "---\n",
    "layout: page\n",
    "title: Expressões\n",
    "nav_order: 3\n",
    "---\n",
    "[<img src=\"https://raw.githubusercontent.com/flaviovdf/fcd/master/assets/colab_favicon_small.png\" style=\"float: right;\">](https://colab.research.google.com/github/flaviovdf/fcd/blob/master/_lessons/03-Expressoes.ipynb)\n",
    "\n",
    "# Tópico 3 - Expressões\n",
    "{: .no_toc .mb-2 }\n",
    "\n",
    "Primeiros passos em Python.\n",
    "{: .fs-6 .fw-300 }\n",
    "\n",
    "{: .no_toc .text-delta }\n",
    "Resultados Esperados\n",
    "\n",
    "1. Saber o que é um notebook e um arquivo `.py`\n",
    "1. Saber realizar matemática simples em python\n",
    "1. Entender as ferramentas base da ciência de dados\n",
    "\n",
    "{: .no_toc .text-delta }\n",
    "Material Adaptado do [DSC10 (UCSD)](https://dsc10.com/)"
   ]
  },
  {
   "cell_type": "code",
   "execution_count": 1,
   "metadata": {
    "execution": {
     "iopub.execute_input": "2025-03-30T17:37:31.863093Z",
     "iopub.status.busy": "2025-03-30T17:37:31.862922Z",
     "iopub.status.idle": "2025-03-30T17:37:31.866012Z",
     "shell.execute_reply": "2025-03-30T17:37:31.865686Z"
    },
    "slideshow": {
     "slide_type": "skip"
    }
   },
   "outputs": [],
   "source": [
    "# Ignore este código, porém execute o mesmo\n",
    "\n",
    "from IPython.display import IFrame\n",
    "def show_nested_eval():\n",
    "    src = 'https://docs.google.com/presentation/d/e/2PACX-1vQpW0NzwT3LjZsIIDAgtSMRM1cl41Gp_Lf8k9GT-gm5sGAIynw4rsgiEFbIybClD6QtxarKaVKLbR9U/embed?start=false&loop=false&delayms=60000\" frameborder=\"0\" width=\"960\" height=\"569\" allowfullscreen=\"true\" mozallowfullscreen=\"true\" webkitallowfullscreen=\"true\"'\n",
    "    width = 960\n",
    "    height = 569\n",
    "    return IFrame(src, width, height)"
   ]
  },
  {
   "cell_type": "markdown",
   "metadata": {
    "slideshow": {
     "slide_type": "slide"
    }
   },
   "source": [
    "### Agenda\n",
    "\n",
    "- O que é código? O que são notebooks Jupyter?\n",
    "- Expressões.\n",
    "- Variáveis.\n",
    "- Expressões de chamada.\n",
    "- Tipos de dados.\n",
    "\n",
    "Muita programação – acompanhe no notebook clicando no link do Collab acima!"
   ]
  },
  {
   "cell_type": "markdown",
   "metadata": {
    "slideshow": {
     "slide_type": "slide"
    }
   },
   "source": [
    "## O que é código? O que são notebooks Jupyter? 💻"
   ]
  },
  {
   "cell_type": "markdown",
   "metadata": {
    "slideshow": {
     "slide_type": "slide"
    }
   },
   "source": [
    "### O que é código?\n",
    "\n",
    "- As instruções para computadores são escritas em **linguagens de programação** e são chamadas de **código**.\n",
    "- “Programas de computador” nada mais são do que **receitas**: escrevemos programas que dizem ao computador exatamente o que fazer, e ele faz exatamente isso – nada mais e nada menos."
   ]
  },
  {
   "cell_type": "markdown",
   "metadata": {
    "slideshow": {
     "slide_type": "slide"
    }
   },
   "source": [
    "### Por que Python?\n",
    "\n",
    "<center>\n",
    "<img src='https://raw.githubusercontent.com/flaviovdf/fcd/master/assets/03-Expressoes/images/languages.jpg' width=400>\n",
    "</center>\n",
    "\n",
    "- Popular.\n",
    "- Variedade de usos.\n",
    "- Desenvolvimento web.\n",
    "- Ciência de dados e aprendizado de máquina.\n",
    "- Não é realmente usado para desenvolvimento de aplicativos.\n",
    "- Fácil de mergulhar!"
   ]
  },
  {
   "cell_type": "markdown",
   "metadata": {
    "slideshow": {
     "slide_type": "slide"
    }
   },
   "source": [
    "### Notebooks Jupyter 📓\n",
    "\n",
    "- Frequentemente, mas não nesta classe, o código é escrito em um editor de texto e depois executado em uma interface de linha de comando.\n",
    "\n",
    "<center>\n",
    "<img src='https://raw.githubusercontent.com/flaviovdf/fcd/master/assets/03-Expressoes/images/terminal.png' width=800>\n",
    "</center>\n",
    "\n",
    "- **Jupyter Notebooks** nos permite escrever e executar código em um único documento. Eles também nos permitem incorporar texto e código. **Usaremos Jupyter Notebooks durante todo o trimestre**."
   ]
  },
  {
   "cell_type": "markdown",
   "metadata": {
    "slideshow": {
     "slide_type": "slide"
    }
   },
   "source": [
    "## Expressões"
   ]
  },
  {
   "cell_type": "markdown",
   "metadata": {
    "slideshow": {
     "slide_type": "slide"
    }
   },
   "source": [
    "### Python como calculadora\n",
    "\n",
    "- Uma **expressão** é uma combinação de valores, operadores e funções que **avalia** algum **valor**."
   ]
  },
  {
   "cell_type": "markdown",
   "metadata": {
    "slideshow": {
     "slide_type": "fragment"
    }
   },
   "source": [
    "- Por enquanto, vamos pensar no Python como uma calculadora – ele pega expressões e as avalia."
   ]
  },
  {
   "cell_type": "markdown",
   "metadata": {
    "slideshow": {
     "slide_type": "fragment"
    }
   },
   "source": [
    "- Inseriremos nossas expressões em **células de código**. Para executar uma célula de código:\n",
    "- **Pressione `shift` + `enter` (ou `shift` + `return`) no teclado (de preferência)**, ou\n",
    "- Pressione o botão \"▶ Executar\" na barra de ferramentas."
   ]
  },
  {
   "cell_type": "code",
   "execution_count": 2,
   "metadata": {
    "execution": {
     "iopub.execute_input": "2025-03-30T17:37:31.867656Z",
     "iopub.status.busy": "2025-03-30T17:37:31.867535Z",
     "iopub.status.idle": "2025-03-30T17:37:31.871346Z",
     "shell.execute_reply": "2025-03-30T17:37:31.871003Z"
    },
    "slideshow": {
     "slide_type": "fragment"
    }
   },
   "outputs": [
    {
     "data": {
      "text/plain": [
       "17"
      ]
     },
     "execution_count": 2,
     "metadata": {},
     "output_type": "execute_result"
    }
   ],
   "source": [
    "17"
   ]
  },
  {
   "cell_type": "code",
   "execution_count": 3,
   "metadata": {
    "execution": {
     "iopub.execute_input": "2025-03-30T17:37:31.894575Z",
     "iopub.status.busy": "2025-03-30T17:37:31.894284Z",
     "iopub.status.idle": "2025-03-30T17:37:31.897350Z",
     "shell.execute_reply": "2025-03-30T17:37:31.897079Z"
    }
   },
   "outputs": [
    {
     "data": {
      "text/plain": [
       "2.14"
      ]
     },
     "execution_count": 3,
     "metadata": {},
     "output_type": "execute_result"
    }
   ],
   "source": [
    "-1 + 3.14"
   ]
  },
  {
   "cell_type": "code",
   "execution_count": 4,
   "metadata": {
    "execution": {
     "iopub.execute_input": "2025-03-30T17:37:31.898789Z",
     "iopub.status.busy": "2025-03-30T17:37:31.898522Z",
     "iopub.status.idle": "2025-03-30T17:37:31.900816Z",
     "shell.execute_reply": "2025-03-30T17:37:31.900566Z"
    }
   },
   "outputs": [
    {
     "data": {
      "text/plain": [
       "8"
      ]
     },
     "execution_count": 4,
     "metadata": {},
     "output_type": "execute_result"
    }
   ],
   "source": [
    "2 ** 3"
   ]
  },
  {
   "cell_type": "code",
   "execution_count": 5,
   "metadata": {
    "execution": {
     "iopub.execute_input": "2025-03-30T17:37:31.902345Z",
     "iopub.status.busy": "2025-03-30T17:37:31.902052Z",
     "iopub.status.idle": "2025-03-30T17:37:31.904937Z",
     "shell.execute_reply": "2025-03-30T17:37:31.904154Z"
    }
   },
   "outputs": [
    {
     "data": {
      "text/plain": [
       "1.5"
      ]
     },
     "execution_count": 5,
     "metadata": {},
     "output_type": "execute_result"
    }
   ],
   "source": [
    "(17 - 14) / 2"
   ]
  },
  {
   "cell_type": "code",
   "execution_count": 6,
   "metadata": {
    "execution": {
     "iopub.execute_input": "2025-03-30T17:37:31.906207Z",
     "iopub.status.busy": "2025-03-30T17:37:31.906105Z",
     "iopub.status.idle": "2025-03-30T17:37:31.908352Z",
     "shell.execute_reply": "2025-03-30T17:37:31.908092Z"
    },
    "scrolled": true
   },
   "outputs": [
    {
     "data": {
      "text/plain": [
       "5"
      ]
     },
     "execution_count": 6,
     "metadata": {},
     "output_type": "execute_result"
    }
   ],
   "source": [
    "# Only one value is displayed. Why?\n",
    "3 * 4\n",
    "5"
   ]
  },
  {
   "cell_type": "markdown",
   "metadata": {
    "slideshow": {
     "slide_type": "slide"
    }
   },
   "source": [
    "### Operaçoes aritimeticas\n",
    "\n",
    "| Operação | Operador | Exemplo | Valor |\n",
    "| --- | --- | --- | --- |\n",
    "| Adição | `+` | `2 + 3` | `5` |\n",
    "| Subtração | `-` | `2 - 3` | `-1` |\n",
    "| Multiplicação | `*` | `2 * 3` | `6` |\n",
    "| Divisão | `/` | `7/3` | `2.66667` |\n",
    "| Restante | `%` | `7% 3` | `1` |\n",
    "| Exponenciação | `**` | `2 ** 0,5` | `1.41421` |"
   ]
  },
  {
   "cell_type": "markdown",
   "metadata": {
    "slideshow": {
     "slide_type": "slide"
    }
   },
   "source": [
    "### Python usa a ordem típica de operações – PEMDAS (BEDMAS? 🛏️)"
   ]
  },
  {
   "cell_type": "code",
   "execution_count": 7,
   "metadata": {
    "execution": {
     "iopub.execute_input": "2025-03-30T17:37:31.909749Z",
     "iopub.status.busy": "2025-03-30T17:37:31.909635Z",
     "iopub.status.idle": "2025-03-30T17:37:31.911879Z",
     "shell.execute_reply": "2025-03-30T17:37:31.911625Z"
    }
   },
   "outputs": [
    {
     "data": {
      "text/plain": [
       "12"
      ]
     },
     "execution_count": 7,
     "metadata": {},
     "output_type": "execute_result"
    }
   ],
   "source": [
    "3 * 2 ** 2"
   ]
  },
  {
   "cell_type": "code",
   "execution_count": 8,
   "metadata": {
    "execution": {
     "iopub.execute_input": "2025-03-30T17:37:31.913250Z",
     "iopub.status.busy": "2025-03-30T17:37:31.913131Z",
     "iopub.status.idle": "2025-03-30T17:37:31.915381Z",
     "shell.execute_reply": "2025-03-30T17:37:31.915121Z"
    }
   },
   "outputs": [
    {
     "data": {
      "text/plain": [
       "36"
      ]
     },
     "execution_count": 8,
     "metadata": {},
     "output_type": "execute_result"
    }
   ],
   "source": [
    "(3 * 2) ** 2"
   ]
  },
  {
   "cell_type": "markdown",
   "metadata": {
    "slideshow": {
     "slide_type": "slide"
    }
   },
   "source": [
    "### Atividade\n",
    "\n",
    "Na célula abaixo, substitua as reticências por uma expressão equivalente a\n",
    "\n",
    "$$(19 + 6 \\cdot 3) - 15 \\cdot \\left(\\sqrt{100} \\cdot \\frac{1}{30}\\right) \\cdot \\frac{3}{5} + \\frac{4 ^2}{2^3} + \\left( 6 - \\frac{2}{3} \\right) \\cdot 12 $$\n",
    "\n",
    "Tente usar parênteses somente quando necessário."
   ]
  },
  {
   "cell_type": "code",
   "execution_count": 9,
   "metadata": {
    "execution": {
     "iopub.execute_input": "2025-03-30T17:37:31.916998Z",
     "iopub.status.busy": "2025-03-30T17:37:31.916894Z",
     "iopub.status.idle": "2025-03-30T17:37:31.919371Z",
     "shell.execute_reply": "2025-03-30T17:37:31.919060Z"
    }
   },
   "outputs": [
    {
     "data": {
      "text/plain": [
       "Ellipsis"
      ]
     },
     "execution_count": 9,
     "metadata": {},
     "output_type": "execute_result"
    }
   ],
   "source": [
    "..."
   ]
  },
  {
   "cell_type": "markdown",
   "metadata": {
    "slideshow": {
     "slide_type": "slide"
    }
   },
   "source": [
    "## Variáveis"
   ]
  },
  {
   "cell_type": "markdown",
   "metadata": {
    "slideshow": {
     "slide_type": "slide"
    }
   },
   "source": [
    "### Motivação\n",
    "\n",
    "Abaixo, calculamos o número de segundos em um ano."
   ]
  },
  {
   "cell_type": "code",
   "execution_count": 10,
   "metadata": {
    "execution": {
     "iopub.execute_input": "2025-03-30T17:37:31.920680Z",
     "iopub.status.busy": "2025-03-30T17:37:31.920576Z",
     "iopub.status.idle": "2025-03-30T17:37:31.923167Z",
     "shell.execute_reply": "2025-03-30T17:37:31.922852Z"
    }
   },
   "outputs": [
    {
     "data": {
      "text/plain": [
       "31536000"
      ]
     },
     "execution_count": 10,
     "metadata": {},
     "output_type": "execute_result"
    }
   ],
   "source": [
    "60 * 60 * 24 * 365"
   ]
  },
  {
   "cell_type": "markdown",
   "metadata": {
    "slideshow": {
     "slide_type": "fragment"
    }
   },
   "source": [
    "Se quisermos utilizar o valor acima mais tarde no nosso bloco de notas para determinar, digamos, o número de segundos em 12 anos, teremos de copiar e colar a expressão. **Isso é inconveniente e propenso a introduzir erros.**"
   ]
  },
  {
   "cell_type": "code",
   "execution_count": 11,
   "metadata": {
    "execution": {
     "iopub.execute_input": "2025-03-30T17:37:31.924391Z",
     "iopub.status.busy": "2025-03-30T17:37:31.924249Z",
     "iopub.status.idle": "2025-03-30T17:37:31.926995Z",
     "shell.execute_reply": "2025-03-30T17:37:31.926679Z"
    }
   },
   "outputs": [
    {
     "data": {
      "text/plain": [
       "378432000"
      ]
     },
     "execution_count": 11,
     "metadata": {},
     "output_type": "execute_result"
    }
   ],
   "source": [
    "60 * 60 * 24 * 365 * 12"
   ]
  },
  {
   "cell_type": "markdown",
   "metadata": {
    "slideshow": {
     "slide_type": "fragment"
    }
   },
   "source": [
    "Seria ótimo se pudéssemos **armazenar** o valor inicial e consultá-lo mais tarde!"
   ]
  },
  {
   "cell_type": "markdown",
   "metadata": {
    "slideshow": {
     "slide_type": "slide"
    }
   },
   "source": [
    "### Variáveis ​​e instruções de atribuição\n",
    "\n",
    "- Uma **variável** é um local para armazenar um valor para que possa ser consultado posteriormente em nosso código. Para definir uma variável, usamos uma **instrução de atribuição**.\n",
    "\n",
    "$$ \\overbrace{\\texttt{minhavariável}}^{\\text{nome}} = \\overbrace{\\texttt{2 + 3}}^{\\text{qualquer expressão}} $$"
   ]
  },
  {
   "cell_type": "markdown",
   "metadata": {
    "slideshow": {
     "slide_type": "fragment"
    }
   },
   "source": [
    "- Uma instrução de atribuição altera o significado do **nome** à esquerda do símbolo `=`."
   ]
  },
  {
   "cell_type": "markdown",
   "metadata": {
    "slideshow": {
     "slide_type": "fragment"
    }
   },
   "source": [
    "- A expressão do lado direito do símbolo `=` é avaliada antes de ser atribuída ao nome do lado esquerdo.\n",
    "* por exemplo. `myvariable` está vinculado a `5` (valor) e não a `2 + 3` (expressão)."
   ]
  },
  {
   "cell_type": "markdown",
   "metadata": {
    "slideshow": {
     "slide_type": "slide"
    }
   },
   "source": [
    "Observe que antes de usá-lo em uma instrução de atribuição, `more_than_1` não tem significado."
   ]
  },
  {
   "cell_type": "code",
   "execution_count": 12,
   "metadata": {
    "execution": {
     "iopub.execute_input": "2025-03-30T17:37:31.928546Z",
     "iopub.status.busy": "2025-03-30T17:37:31.928391Z",
     "iopub.status.idle": "2025-03-30T17:37:31.930231Z",
     "shell.execute_reply": "2025-03-30T17:37:31.929929Z"
    },
    "scrolled": true
   },
   "outputs": [],
   "source": [
    "# Descomente e execute\n",
    "# more_than_1"
   ]
  },
  {
   "cell_type": "markdown",
   "metadata": {
    "slideshow": {
     "slide_type": "fragment"
    }
   },
   "source": [
    "Depois de usá-lo em uma instrução de atribuição, podemos perguntar ao Python seu valor."
   ]
  },
  {
   "cell_type": "code",
   "execution_count": 13,
   "metadata": {
    "execution": {
     "iopub.execute_input": "2025-03-30T17:37:31.931667Z",
     "iopub.status.busy": "2025-03-30T17:37:31.931513Z",
     "iopub.status.idle": "2025-03-30T17:37:31.933428Z",
     "shell.execute_reply": "2025-03-30T17:37:31.933130Z"
    }
   },
   "outputs": [],
   "source": [
    "# Note that an assignment statement doesn't output anything!\n",
    "more_than_1 = 15 - 5"
   ]
  },
  {
   "cell_type": "code",
   "execution_count": 14,
   "metadata": {
    "execution": {
     "iopub.execute_input": "2025-03-30T17:37:31.934683Z",
     "iopub.status.busy": "2025-03-30T17:37:31.934556Z",
     "iopub.status.idle": "2025-03-30T17:37:31.937039Z",
     "shell.execute_reply": "2025-03-30T17:37:31.936760Z"
    }
   },
   "outputs": [
    {
     "data": {
      "text/plain": [
       "10"
      ]
     },
     "execution_count": 14,
     "metadata": {},
     "output_type": "execute_result"
    }
   ],
   "source": [
    "more_than_1"
   ]
  },
  {
   "cell_type": "markdown",
   "metadata": {
    "slideshow": {
     "slide_type": "fragment"
    }
   },
   "source": [
    "Sempre que usamos `more_than_1` em uma expressão, `10` é substituído por `10`."
   ]
  },
  {
   "cell_type": "code",
   "execution_count": 15,
   "metadata": {
    "execution": {
     "iopub.execute_input": "2025-03-30T17:37:31.938446Z",
     "iopub.status.busy": "2025-03-30T17:37:31.938292Z",
     "iopub.status.idle": "2025-03-30T17:37:31.940819Z",
     "shell.execute_reply": "2025-03-30T17:37:31.940551Z"
    }
   },
   "outputs": [
    {
     "data": {
      "text/plain": [
       "20"
      ]
     },
     "execution_count": 15,
     "metadata": {},
     "output_type": "execute_result"
    }
   ],
   "source": [
    "more_than_1 * 2"
   ]
  },
  {
   "cell_type": "markdown",
   "metadata": {
    "slideshow": {
     "slide_type": "fragment"
    }
   },
   "source": [
    "Observe que a expressão acima **não alterou** o valor de `more_than_1`, porque **não reatribuímos `more_than_1`**!"
   ]
  },
  {
   "cell_type": "code",
   "execution_count": 16,
   "metadata": {
    "execution": {
     "iopub.execute_input": "2025-03-30T17:37:31.942031Z",
     "iopub.status.busy": "2025-03-30T17:37:31.941912Z",
     "iopub.status.idle": "2025-03-30T17:37:31.944045Z",
     "shell.execute_reply": "2025-03-30T17:37:31.943782Z"
    }
   },
   "outputs": [
    {
     "data": {
      "text/plain": [
       "10"
      ]
     },
     "execution_count": 16,
     "metadata": {},
     "output_type": "execute_result"
    }
   ],
   "source": [
    "more_than_1"
   ]
  },
  {
   "cell_type": "markdown",
   "metadata": {
    "slideshow": {
     "slide_type": "slide"
    }
   },
   "source": [
    "### Nomeando variáveis\n",
    "\n",
    "- Geralmente, dê nomes úteis às suas variáveis ​​para que você saiba a que elas se referem.\n",
    "- Os nomes das variáveis ​​podem conter caracteres maiúsculos e minúsculos, dígitos de 0 a 9 e sublinhados.\n",
    "- Eles não podem começar com um número.\n",
    "- Eles diferenciam maiúsculas de minúsculas!"
   ]
  },
  {
   "cell_type": "markdown",
   "metadata": {
    "slideshow": {
     "slide_type": "fragment"
    }
   },
   "source": [
    "As instruções de atribuição a seguir são **válidas**, mas usam nomes de variáveis ​​**ruins** 😕."
   ]
  },
  {
   "cell_type": "code",
   "execution_count": 17,
   "metadata": {
    "execution": {
     "iopub.execute_input": "2025-03-30T17:37:31.945305Z",
     "iopub.status.busy": "2025-03-30T17:37:31.945203Z",
     "iopub.status.idle": "2025-03-30T17:37:31.946807Z",
     "shell.execute_reply": "2025-03-30T17:37:31.946577Z"
    }
   },
   "outputs": [],
   "source": [
    "six = 15"
   ]
  },
  {
   "cell_type": "code",
   "execution_count": 18,
   "metadata": {
    "execution": {
     "iopub.execute_input": "2025-03-30T17:37:31.948038Z",
     "iopub.status.busy": "2025-03-30T17:37:31.947943Z",
     "iopub.status.idle": "2025-03-30T17:37:31.949604Z",
     "shell.execute_reply": "2025-03-30T17:37:31.949348Z"
    }
   },
   "outputs": [],
   "source": [
    "i_45love_chocolate_9999 = 60 * 60 * 24 * 365"
   ]
  },
  {
   "cell_type": "markdown",
   "metadata": {
    "slideshow": {
     "slide_type": "fragment"
    }
   },
   "source": [
    "As instruções de atribuição a seguir são **válidas** e usam nomes de variáveis ​​**bons** ✅."
   ]
  },
  {
   "cell_type": "code",
   "execution_count": 19,
   "metadata": {
    "execution": {
     "iopub.execute_input": "2025-03-30T17:37:31.950817Z",
     "iopub.status.busy": "2025-03-30T17:37:31.950721Z",
     "iopub.status.idle": "2025-03-30T17:37:31.952526Z",
     "shell.execute_reply": "2025-03-30T17:37:31.952255Z"
    },
    "tags": [
     "raises-exception"
    ]
   },
   "outputs": [],
   "source": [
    "seconds_per_hour = 60 * 60\n",
    "hours_per_year = 24 * 365\n",
    "seconds_per_year = seconds_per_hour * hours_per_year"
   ]
  },
  {
   "cell_type": "markdown",
   "metadata": {
    "slideshow": {
     "slide_type": "fragment"
    }
   },
   "source": [
    "As seguintes \"declarações de atribuição\" são **inválidas ❌**."
   ]
  },
  {
   "cell_type": "code",
   "execution_count": 20,
   "metadata": {
    "execution": {
     "iopub.execute_input": "2025-03-30T17:37:31.953663Z",
     "iopub.status.busy": "2025-03-30T17:37:31.953564Z",
     "iopub.status.idle": "2025-03-30T17:37:31.955243Z",
     "shell.execute_reply": "2025-03-30T17:37:31.954887Z"
    }
   },
   "outputs": [],
   "source": [
    "# Descomente e execute\n",
    "# 6 = 15"
   ]
  },
  {
   "cell_type": "code",
   "execution_count": 21,
   "metadata": {
    "execution": {
     "iopub.execute_input": "2025-03-30T17:37:31.956568Z",
     "iopub.status.busy": "2025-03-30T17:37:31.956457Z",
     "iopub.status.idle": "2025-03-30T17:37:31.958168Z",
     "shell.execute_reply": "2025-03-30T17:37:31.957878Z"
    }
   },
   "outputs": [],
   "source": [
    "# Descomente e execute\n",
    "# 3 = 2 + 1"
   ]
  },
  {
   "cell_type": "markdown",
   "metadata": {
    "slideshow": {
     "slide_type": "slide"
    }
   },
   "source": [
    "### Declarações de atribuição não são equações matemáticas!\n",
    "\n",
    "- Ao contrário da matemática, onde $x = 3$ significa a mesma coisa que $3 = x$, as instruções de atribuição **não** são \"simétricas\".\n",
    "- Uma instrução de atribuição atribui (ou \"liga\") o nome à esquerda de `=` ao valor à direita de `=`, nada mais."
   ]
  },
  {
   "cell_type": "code",
   "execution_count": 22,
   "metadata": {
    "execution": {
     "iopub.execute_input": "2025-03-30T17:37:31.959468Z",
     "iopub.status.busy": "2025-03-30T17:37:31.959358Z",
     "iopub.status.idle": "2025-03-30T17:37:31.961632Z",
     "shell.execute_reply": "2025-03-30T17:37:31.961327Z"
    }
   },
   "outputs": [
    {
     "data": {
      "text/plain": [
       "3"
      ]
     },
     "execution_count": 22,
     "metadata": {},
     "output_type": "execute_result"
    }
   ],
   "source": [
    "x = 3\n",
    "x"
   ]
  },
  {
   "cell_type": "code",
   "execution_count": 23,
   "metadata": {
    "execution": {
     "iopub.execute_input": "2025-03-30T17:37:31.962925Z",
     "iopub.status.busy": "2025-03-30T17:37:31.962811Z",
     "iopub.status.idle": "2025-03-30T17:37:31.964405Z",
     "shell.execute_reply": "2025-03-30T17:37:31.964131Z"
    }
   },
   "outputs": [],
   "source": [
    "# Descomente e execute\n",
    "# 4 = x"
   ]
  },
  {
   "cell_type": "markdown",
   "metadata": {
    "slideshow": {
     "slide_type": "slide"
    }
   },
   "source": [
    "### O valor de uma variável é definido no momento da atribuição"
   ]
  },
  {
   "cell_type": "code",
   "execution_count": 24,
   "metadata": {
    "execution": {
     "iopub.execute_input": "2025-03-30T17:37:31.965701Z",
     "iopub.status.busy": "2025-03-30T17:37:31.965594Z",
     "iopub.status.idle": "2025-03-30T17:37:31.967284Z",
     "shell.execute_reply": "2025-03-30T17:37:31.966993Z"
    }
   },
   "outputs": [],
   "source": [
    "uc = 2\n",
    "sd = 3 + uc"
   ]
  },
  {
   "cell_type": "markdown",
   "metadata": {
    "slideshow": {
     "slide_type": "fragment"
    }
   },
   "source": [
    "As declarações de atribuição não são **promessas** – o valor de uma variável pode mudar!"
   ]
  },
  {
   "cell_type": "code",
   "execution_count": 25,
   "metadata": {
    "execution": {
     "iopub.execute_input": "2025-03-30T17:37:31.968587Z",
     "iopub.status.busy": "2025-03-30T17:37:31.968477Z",
     "iopub.status.idle": "2025-03-30T17:37:31.970163Z",
     "shell.execute_reply": "2025-03-30T17:37:31.969881Z"
    }
   },
   "outputs": [],
   "source": [
    "uc = 7"
   ]
  },
  {
   "cell_type": "markdown",
   "metadata": {
    "slideshow": {
     "slide_type": "fragment"
    }
   },
   "source": [
    "Observe que mesmo depois de alterar `uc`, não alteramos `sd`, então ainda é o mesmo de antes."
   ]
  },
  {
   "cell_type": "code",
   "execution_count": 26,
   "metadata": {
    "execution": {
     "iopub.execute_input": "2025-03-30T17:37:31.971503Z",
     "iopub.status.busy": "2025-03-30T17:37:31.971393Z",
     "iopub.status.idle": "2025-03-30T17:37:31.973635Z",
     "shell.execute_reply": "2025-03-30T17:37:31.973332Z"
    }
   },
   "outputs": [
    {
     "data": {
      "text/plain": [
       "5"
      ]
     },
     "execution_count": 26,
     "metadata": {},
     "output_type": "execute_result"
    }
   ],
   "source": [
    "sd"
   ]
  },
  {
   "cell_type": "markdown",
   "metadata": {
    "slideshow": {
     "slide_type": "slide"
    }
   },
   "source": [
    "### Uma analogia útil\n",
    "\n",
    "<center>\n",
    "<img src='https://raw.githubusercontent.com/flaviovdf/fcd/master/assets/03-Expressoes/images/box.png' width=600>\n",
    "</center>\n",
    "\n",
    "- Uma metáfora comum é que as variáveis ​​são como caixas ou contêineres ([source](https://www.tomasbeuzen.com/python-programming-for-data-science/chapters/chapter1-basics.html)).\n",
    "- Outra analogia: uma declaração de atribuição é como colocar um adesivo em um valor."
   ]
  },
  {
   "cell_type": "markdown",
   "metadata": {
    "slideshow": {
     "slide_type": "slide"
    }
   },
   "source": [
    "### Verificação de conceito ✅\n",
    "\n",
    "Suponha que você executou as três linhas de código a seguir:\n",
    "\n",
    "```py\n",
    "side_length = 5\n",
    "area = side_length ** 2\n",
    "side_length = side_length + 2\n",
    "```\n",
    "\n",
    "Quais são os valores de `side_length` e `area` após a execução?\n",
    "\n",
    "A. `comprimento_lateral = 5`, `área = 25`\n",
    "\n",
    "B. `comprimento_lateral = 5`, `área = 49`\n",
    "\n",
    "C. `comprimento_lateral = 7`, `área = 25`\n",
    "\n",
    "D. `comprimento_lateral = 7`, `área = 49`\n",
    "\n",
    "E. Nenhuma das opções acima"
   ]
  },
  {
   "cell_type": "markdown",
   "metadata": {
    "slideshow": {
     "slide_type": "slide"
    }
   },
   "source": [
    "## Expressões de chamada 📞"
   ]
  },
  {
   "cell_type": "markdown",
   "metadata": {
    "slideshow": {
     "slide_type": "slide"
    }
   },
   "source": [
    "### Funções algébricas\n",
    "\n",
    "- Em matemática, as funções recebem alguma entrada e retornam alguma saída.\n",
    "\n",
    "$$f(x, y) = 2x^2 + 3xy - 1$$\n",
    "\n",
    "- Podemos determinar a saída de uma função mesmo se passarmos coisas complicadas.\n",
    "\n",
    "$$f\\left(\\frac{1+2}{3+4}, (-1)^{15}\\right)$$"
   ]
  },
  {
   "cell_type": "markdown",
   "metadata": {
    "slideshow": {
     "slide_type": "slide"
    }
   },
   "source": [
    "### Expressões de chamada\n",
    "\n",
    "* **Expressões de chamada** em Python invocam funções – elas dizem a uma função para \"executar sua receita\".\n",
    "* As funções em Python funcionam da mesma forma que as funções em matemática.\n",
    "* As entradas para funções são chamadas de **argumentos**."
   ]
  },
  {
   "cell_type": "code",
   "execution_count": 27,
   "metadata": {
    "execution": {
     "iopub.execute_input": "2025-03-30T17:37:31.975104Z",
     "iopub.status.busy": "2025-03-30T17:37:31.974994Z",
     "iopub.status.idle": "2025-03-30T17:37:31.977186Z",
     "shell.execute_reply": "2025-03-30T17:37:31.976932Z"
    }
   },
   "outputs": [
    {
     "data": {
      "text/plain": [
       "12"
      ]
     },
     "execution_count": 27,
     "metadata": {},
     "output_type": "execute_result"
    }
   ],
   "source": [
    "abs(-12)"
   ]
  },
  {
   "cell_type": "markdown",
   "metadata": {
    "slideshow": {
     "slide_type": "slide"
    }
   },
   "source": [
    "### Algumas funções podem receber um número variável de argumentos"
   ]
  },
  {
   "cell_type": "code",
   "execution_count": 28,
   "metadata": {
    "execution": {
     "iopub.execute_input": "2025-03-30T17:37:31.978404Z",
     "iopub.status.busy": "2025-03-30T17:37:31.978297Z",
     "iopub.status.idle": "2025-03-30T17:37:31.980498Z",
     "shell.execute_reply": "2025-03-30T17:37:31.980231Z"
    }
   },
   "outputs": [
    {
     "data": {
      "text/plain": [
       "3"
      ]
     },
     "execution_count": 28,
     "metadata": {},
     "output_type": "execute_result"
    }
   ],
   "source": [
    "max(3, -4)"
   ]
  },
  {
   "cell_type": "code",
   "execution_count": 29,
   "metadata": {
    "execution": {
     "iopub.execute_input": "2025-03-30T17:37:31.981652Z",
     "iopub.status.busy": "2025-03-30T17:37:31.981552Z",
     "iopub.status.idle": "2025-03-30T17:37:31.983785Z",
     "shell.execute_reply": "2025-03-30T17:37:31.983531Z"
    }
   },
   "outputs": [
    {
     "data": {
      "text/plain": [
       "10"
      ]
     },
     "execution_count": 29,
     "metadata": {},
     "output_type": "execute_result"
    }
   ],
   "source": [
    "max(2, -3, -6, 10, -4)"
   ]
  },
  {
   "cell_type": "code",
   "execution_count": 30,
   "metadata": {
    "execution": {
     "iopub.execute_input": "2025-03-30T17:37:31.985013Z",
     "iopub.status.busy": "2025-03-30T17:37:31.984913Z",
     "iopub.status.idle": "2025-03-30T17:37:31.987049Z",
     "shell.execute_reply": "2025-03-30T17:37:31.986801Z"
    }
   },
   "outputs": [
    {
     "data": {
      "text/plain": [
       "9"
      ]
     },
     "execution_count": 30,
     "metadata": {},
     "output_type": "execute_result"
    }
   ],
   "source": [
    "# Only two arguments!\n",
    "max(4 + 5, 5 - 4)"
   ]
  },
  {
   "cell_type": "markdown",
   "metadata": {
    "slideshow": {
     "slide_type": "slide"
    }
   },
   "source": [
    "### Use ```?``` depois de uma função para ver a documentação de uma função\n",
    "Ou use a função `help`, por ex. `ajuda(máx.)`."
   ]
  },
  {
   "cell_type": "code",
   "execution_count": 31,
   "metadata": {
    "execution": {
     "iopub.execute_input": "2025-03-30T17:37:31.988256Z",
     "iopub.status.busy": "2025-03-30T17:37:31.988157Z",
     "iopub.status.idle": "2025-03-30T17:37:31.990219Z",
     "shell.execute_reply": "2025-03-30T17:37:31.989960Z"
    }
   },
   "outputs": [],
   "source": [
    "max?"
   ]
  },
  {
   "cell_type": "markdown",
   "metadata": {
    "slideshow": {
     "slide_type": "slide"
    }
   },
   "source": [
    "### Exemplo: `round`"
   ]
  },
  {
   "cell_type": "code",
   "execution_count": 32,
   "metadata": {
    "execution": {
     "iopub.execute_input": "2025-03-30T17:37:31.991463Z",
     "iopub.status.busy": "2025-03-30T17:37:31.991357Z",
     "iopub.status.idle": "2025-03-30T17:37:31.993566Z",
     "shell.execute_reply": "2025-03-30T17:37:31.993309Z"
    }
   },
   "outputs": [
    {
     "data": {
      "text/plain": [
       "1"
      ]
     },
     "execution_count": 32,
     "metadata": {},
     "output_type": "execute_result"
    }
   ],
   "source": [
    "my_number = 1.22\n",
    "round(my_number)"
   ]
  },
  {
   "cell_type": "code",
   "execution_count": 33,
   "metadata": {
    "execution": {
     "iopub.execute_input": "2025-03-30T17:37:31.994786Z",
     "iopub.status.busy": "2025-03-30T17:37:31.994687Z",
     "iopub.status.idle": "2025-03-30T17:37:32.017866Z",
     "shell.execute_reply": "2025-03-30T17:37:32.017368Z"
    }
   },
   "outputs": [],
   "source": [
    "round?"
   ]
  },
  {
   "cell_type": "code",
   "execution_count": 34,
   "metadata": {
    "execution": {
     "iopub.execute_input": "2025-03-30T17:37:32.019353Z",
     "iopub.status.busy": "2025-03-30T17:37:32.019247Z",
     "iopub.status.idle": "2025-03-30T17:37:32.021541Z",
     "shell.execute_reply": "2025-03-30T17:37:32.021281Z"
    }
   },
   "outputs": [
    {
     "data": {
      "text/plain": [
       "1.222"
      ]
     },
     "execution_count": 34,
     "metadata": {},
     "output_type": "execute_result"
    }
   ],
   "source": [
    "round(1.22222, 3)"
   ]
  },
  {
   "cell_type": "markdown",
   "metadata": {
    "slideshow": {
     "slide_type": "slide"
    }
   },
   "source": [
    "### Avaliação aninhada\n",
    "\n",
    "Podemos **aninhar** muitas chamadas de função para avaliar expressões sofisticadas."
   ]
  },
  {
   "cell_type": "code",
   "execution_count": 35,
   "metadata": {
    "execution": {
     "iopub.execute_input": "2025-03-30T17:37:32.023029Z",
     "iopub.status.busy": "2025-03-30T17:37:32.022816Z",
     "iopub.status.idle": "2025-03-30T17:37:32.025117Z",
     "shell.execute_reply": "2025-03-30T17:37:32.024870Z"
    }
   },
   "outputs": [
    {
     "data": {
      "text/plain": [
       "1"
      ]
     },
     "execution_count": 35,
     "metadata": {},
     "output_type": "execute_result"
    }
   ],
   "source": [
    "min(abs(max(-1, -2, -3, min(4, -2))), max(5, 100))"
   ]
  },
  {
   "cell_type": "markdown",
   "metadata": {
    "slideshow": {
     "slide_type": "fragment"
    }
   },
   "source": [
    "...como isso funcionou?"
   ]
  },
  {
   "cell_type": "code",
   "execution_count": 36,
   "metadata": {
    "execution": {
     "iopub.execute_input": "2025-03-30T17:37:32.026682Z",
     "iopub.status.busy": "2025-03-30T17:37:32.026583Z",
     "iopub.status.idle": "2025-03-30T17:37:32.028749Z",
     "shell.execute_reply": "2025-03-30T17:37:32.028483Z"
    },
    "scrolled": false,
    "slideshow": {
     "slide_type": "fragment"
    }
   },
   "outputs": [
    {
     "data": {
      "text/html": [
       "\n",
       "        <iframe\n",
       "            width=\"960\"\n",
       "            height=\"569\"\n",
       "            src=\"https://docs.google.com/presentation/d/e/2PACX-1vQpW0NzwT3LjZsIIDAgtSMRM1cl41Gp_Lf8k9GT-gm5sGAIynw4rsgiEFbIybClD6QtxarKaVKLbR9U/embed?start=false&loop=false&delayms=60000\" frameborder=\"0\" width=\"960\" height=\"569\" allowfullscreen=\"true\" mozallowfullscreen=\"true\" webkitallowfullscreen=\"true\"\"\n",
       "            frameborder=\"0\"\n",
       "            allowfullscreen\n",
       "            \n",
       "        ></iframe>\n",
       "        "
      ],
      "text/plain": [
       "<IPython.lib.display.IFrame at 0x7f5012dcb6b0>"
      ]
     },
     "execution_count": 36,
     "metadata": {},
     "output_type": "execute_result"
    }
   ],
   "source": [
    "show_nested_eval()"
   ]
  },
  {
   "cell_type": "markdown",
   "metadata": {
    "slideshow": {
     "slide_type": "slide"
    }
   },
   "source": [
    "### Importar instruções\n",
    "- Python não tem tudo que precisamos integrado.\n",
    "- Para obter funcionalidades adicionais, importamos **módulos** por meio de **instruções de importação**.\n",
    "- **Módulos** podem ser considerados coleções de funções e valores Python.\n",
    "- Chame essas funções usando a sintaxe `module.function()`, chamada \"notação de ponto\"."
   ]
  },
  {
   "cell_type": "markdown",
   "metadata": {
    "slideshow": {
     "slide_type": "slide"
    }
   },
   "source": [
    "### Exemplo: `import math`\n",
    "\n",
    "`sqrt`, `log`, `pow`, etc."
   ]
  },
  {
   "cell_type": "code",
   "execution_count": 37,
   "metadata": {
    "execution": {
     "iopub.execute_input": "2025-03-30T17:37:32.030065Z",
     "iopub.status.busy": "2025-03-30T17:37:32.029963Z",
     "iopub.status.idle": "2025-03-30T17:37:32.031682Z",
     "shell.execute_reply": "2025-03-30T17:37:32.031412Z"
    }
   },
   "outputs": [],
   "source": [
    "import math"
   ]
  },
  {
   "cell_type": "code",
   "execution_count": 38,
   "metadata": {
    "execution": {
     "iopub.execute_input": "2025-03-30T17:37:32.032890Z",
     "iopub.status.busy": "2025-03-30T17:37:32.032795Z",
     "iopub.status.idle": "2025-03-30T17:37:32.034930Z",
     "shell.execute_reply": "2025-03-30T17:37:32.034659Z"
    }
   },
   "outputs": [
    {
     "data": {
      "text/plain": [
       "3.0"
      ]
     },
     "execution_count": 38,
     "metadata": {},
     "output_type": "execute_result"
    }
   ],
   "source": [
    "math.sqrt(9)"
   ]
  },
  {
   "cell_type": "code",
   "execution_count": 39,
   "metadata": {
    "execution": {
     "iopub.execute_input": "2025-03-30T17:37:32.036178Z",
     "iopub.status.busy": "2025-03-30T17:37:32.036073Z",
     "iopub.status.idle": "2025-03-30T17:37:32.038220Z",
     "shell.execute_reply": "2025-03-30T17:37:32.037955Z"
    }
   },
   "outputs": [
    {
     "data": {
      "text/plain": [
       "9.0"
      ]
     },
     "execution_count": 39,
     "metadata": {},
     "output_type": "execute_result"
    }
   ],
   "source": [
    "math.pow(3, 2)"
   ]
  },
  {
   "cell_type": "code",
   "execution_count": 40,
   "metadata": {
    "execution": {
     "iopub.execute_input": "2025-03-30T17:37:32.039569Z",
     "iopub.status.busy": "2025-03-30T17:37:32.039289Z",
     "iopub.status.idle": "2025-03-30T17:37:32.041209Z",
     "shell.execute_reply": "2025-03-30T17:37:32.040926Z"
    }
   },
   "outputs": [],
   "source": [
    "# What base is log?\n",
    "math.log?"
   ]
  },
  {
   "cell_type": "markdown",
   "metadata": {
    "slideshow": {
     "slide_type": "fragment"
    }
   },
   "source": [
    "Ele também possui constantes integradas!"
   ]
  },
  {
   "cell_type": "code",
   "execution_count": 41,
   "metadata": {
    "execution": {
     "iopub.execute_input": "2025-03-30T17:37:32.042714Z",
     "iopub.status.busy": "2025-03-30T17:37:32.042566Z",
     "iopub.status.idle": "2025-03-30T17:37:32.045063Z",
     "shell.execute_reply": "2025-03-30T17:37:32.044753Z"
    }
   },
   "outputs": [
    {
     "data": {
      "text/plain": [
       "3.141592653589793"
      ]
     },
     "execution_count": 41,
     "metadata": {},
     "output_type": "execute_result"
    }
   ],
   "source": [
    "math.pi"
   ]
  },
  {
   "cell_type": "markdown",
   "metadata": {
    "slideshow": {
     "slide_type": "slide"
    }
   },
   "source": [
    "### Verificação de conceito ✅\n",
    "\n",
    "Suponha que você executou as seguintes instruções:\n",
    "\n",
    "```py\n",
    "x = 3\n",
    "y = -2\n",
    "```\n",
    "\n",
    "Qual desses exemplos resulta em um erro?\n",
    "\n",
    "A. `abs(x, y)`\n",
    "\n",
    "B. `math.pow(x, abs(y))`\n",
    "\n",
    "C. `round(x, max (abs (y ** 2)))`\n",
    "\n",
    "D. `math.pow(x, math.pow(y, x))`\n",
    "\n",
    "E. Mais de um dos itens acima"
   ]
  },
  {
   "cell_type": "code",
   "execution_count": null,
   "metadata": {
    "slideshow": {
     "slide_type": "-"
    }
   },
   "outputs": [],
   "source": []
  },
  {
   "cell_type": "markdown",
   "metadata": {
    "slideshow": {
     "slide_type": "slide"
    }
   },
   "source": [
    "## Tipos de dados"
   ]
  },
  {
   "cell_type": "markdown",
   "metadata": {
    "slideshow": {
     "slide_type": "slide"
    }
   },
   "source": [
    "### Qual é a diferença? 🧐"
   ]
  },
  {
   "cell_type": "code",
   "execution_count": 42,
   "metadata": {
    "execution": {
     "iopub.execute_input": "2025-03-30T17:37:32.046548Z",
     "iopub.status.busy": "2025-03-30T17:37:32.046406Z",
     "iopub.status.idle": "2025-03-30T17:37:32.048649Z",
     "shell.execute_reply": "2025-03-30T17:37:32.048382Z"
    }
   },
   "outputs": [
    {
     "data": {
      "text/plain": [
       "2.0"
      ]
     },
     "execution_count": 42,
     "metadata": {},
     "output_type": "execute_result"
    }
   ],
   "source": [
    "4 / 2"
   ]
  },
  {
   "cell_type": "code",
   "execution_count": 43,
   "metadata": {
    "execution": {
     "iopub.execute_input": "2025-03-30T17:37:32.049889Z",
     "iopub.status.busy": "2025-03-30T17:37:32.049791Z",
     "iopub.status.idle": "2025-03-30T17:37:32.051906Z",
     "shell.execute_reply": "2025-03-30T17:37:32.051646Z"
    }
   },
   "outputs": [
    {
     "data": {
      "text/plain": [
       "2"
      ]
     },
     "execution_count": 43,
     "metadata": {},
     "output_type": "execute_result"
    }
   ],
   "source": [
    "5 - 3"
   ]
  },
  {
   "cell_type": "markdown",
   "metadata": {
    "slideshow": {
     "slide_type": "fragment"
    }
   },
   "source": [
    "Para nós, `2.0` e `2` são o mesmo número, $2$. Mas para Python, isso parece ser diferente!"
   ]
  },
  {
   "cell_type": "markdown",
   "metadata": {
    "slideshow": {
     "slide_type": "slide"
    }
   },
   "source": [
    "### Tipos de dados\n",
    "- Todo valor em Python tem um **tipo**.\n",
    "- Use a função `type` para verificar o tipo de um valor.\n",
    "- É importante entender como diferentes tipos funcionam com diferentes operações, pois os resultados podem nem sempre ser os que esperamos."
   ]
  },
  {
   "cell_type": "markdown",
   "metadata": {
    "slideshow": {
     "slide_type": "slide"
    }
   },
   "source": [
    "### Dois tipos de dados numéricos: ```int``` e ```float```\n",
    "- ```int``` : Um número inteiro de qualquer tamanho.\n",
    "- ```float```: Um número com ponto decimal."
   ]
  },
  {
   "cell_type": "markdown",
   "metadata": {
    "slideshow": {
     "slide_type": "slide"
    }
   },
   "source": [
    "### ```int```\n",
    "- Se você usar essas operações entre `int`s (`+`, `-`, `*`, `**`), o resultado será outro `int`.\n",
    "- `int`s têm precisão arbitrária em Python, o que significa que seus cálculos serão sempre exatos."
   ]
  },
  {
   "cell_type": "code",
   "execution_count": 44,
   "metadata": {
    "execution": {
     "iopub.execute_input": "2025-03-30T17:37:32.053340Z",
     "iopub.status.busy": "2025-03-30T17:37:32.053081Z",
     "iopub.status.idle": "2025-03-30T17:37:32.055386Z",
     "shell.execute_reply": "2025-03-30T17:37:32.055120Z"
    }
   },
   "outputs": [
    {
     "data": {
      "text/plain": [
       "8"
      ]
     },
     "execution_count": 44,
     "metadata": {},
     "output_type": "execute_result"
    }
   ],
   "source": [
    "3 + 5"
   ]
  },
  {
   "cell_type": "code",
   "execution_count": 45,
   "metadata": {
    "execution": {
     "iopub.execute_input": "2025-03-30T17:37:32.056597Z",
     "iopub.status.busy": "2025-03-30T17:37:32.056491Z",
     "iopub.status.idle": "2025-03-30T17:37:32.058714Z",
     "shell.execute_reply": "2025-03-30T17:37:32.058455Z"
    }
   },
   "outputs": [
    {
     "data": {
      "text/plain": [
       "int"
      ]
     },
     "execution_count": 45,
     "metadata": {},
     "output_type": "execute_result"
    }
   ],
   "source": [
    "type(3 + 5)"
   ]
  },
  {
   "cell_type": "code",
   "execution_count": 46,
   "metadata": {
    "execution": {
     "iopub.execute_input": "2025-03-30T17:37:32.060118Z",
     "iopub.status.busy": "2025-03-30T17:37:32.059875Z",
     "iopub.status.idle": "2025-03-30T17:37:32.062219Z",
     "shell.execute_reply": "2025-03-30T17:37:32.061952Z"
    }
   },
   "outputs": [
    {
     "data": {
      "text/plain": [
       "2037035976334486086268445688409378161051468393665936250636140449354381299763336706183397376"
      ]
     },
     "execution_count": 46,
     "metadata": {},
     "output_type": "execute_result"
    }
   ],
   "source": [
    "2 ** 300"
   ]
  },
  {
   "cell_type": "code",
   "execution_count": 47,
   "metadata": {
    "execution": {
     "iopub.execute_input": "2025-03-30T17:37:32.063465Z",
     "iopub.status.busy": "2025-03-30T17:37:32.063363Z",
     "iopub.status.idle": "2025-03-30T17:37:32.065640Z",
     "shell.execute_reply": "2025-03-30T17:37:32.065372Z"
    },
    "scrolled": true
   },
   "outputs": [
    {
     "data": {
      "text/plain": [
       "1230231922161117176931558813276752514640713895736833715766118029160058800614672948775360067838593459582429649254051804908512884180898236823585082482065348331234959350355845017413023320111360666922624728239756880416434478315693675013413090757208690376793296658810662941824493488451726505303712916005346747908623702673480919353936813105736620402352744776903840477883651100322409301983488363802930540482487909763484098253940728685132044408863734754271212592471778643949486688511721051561970432780747454823776808464180697103083861812184348565522740195796682622205511845512080552010310050255801589349645928001133745474220715013683413907542779063759833876101354235184245096670042160720629411581502371248008430447184842098610320580417992206662247328722122088513643683907670360209162653670641130936997002170500675501374723998766005827579300723253474890612250135171889174899079911291512399773872178519018229989376"
      ]
     },
     "execution_count": 47,
     "metadata": {},
     "output_type": "execute_result"
    }
   ],
   "source": [
    "2 ** 3000"
   ]
  },
  {
   "cell_type": "markdown",
   "metadata": {
    "slideshow": {
     "slide_type": "slide"
    }
   },
   "source": [
    "### ```float```\n",
    "* Um `float` é especificado usando um ponto **decimal**.\n",
    "* Um `float` pode ser impresso usando notação científica."
   ]
  },
  {
   "cell_type": "code",
   "execution_count": 48,
   "metadata": {
    "execution": {
     "iopub.execute_input": "2025-03-30T17:37:32.066863Z",
     "iopub.status.busy": "2025-03-30T17:37:32.066749Z",
     "iopub.status.idle": "2025-03-30T17:37:32.068929Z",
     "shell.execute_reply": "2025-03-30T17:37:32.068679Z"
    }
   },
   "outputs": [
    {
     "data": {
      "text/plain": [
       "5.2"
      ]
     },
     "execution_count": 48,
     "metadata": {},
     "output_type": "execute_result"
    }
   ],
   "source": [
    "2.0 + 3.2"
   ]
  },
  {
   "cell_type": "code",
   "execution_count": 49,
   "metadata": {
    "execution": {
     "iopub.execute_input": "2025-03-30T17:37:32.070256Z",
     "iopub.status.busy": "2025-03-30T17:37:32.070155Z",
     "iopub.status.idle": "2025-03-30T17:37:32.072366Z",
     "shell.execute_reply": "2025-03-30T17:37:32.072123Z"
    }
   },
   "outputs": [
    {
     "data": {
      "text/plain": [
       "float"
      ]
     },
     "execution_count": 49,
     "metadata": {},
     "output_type": "execute_result"
    }
   ],
   "source": [
    "type(2.0 + 3.2)"
   ]
  },
  {
   "cell_type": "code",
   "execution_count": 50,
   "metadata": {
    "execution": {
     "iopub.execute_input": "2025-03-30T17:37:32.073492Z",
     "iopub.status.busy": "2025-03-30T17:37:32.073391Z",
     "iopub.status.idle": "2025-03-30T17:37:32.075569Z",
     "shell.execute_reply": "2025-03-30T17:37:32.075239Z"
    }
   },
   "outputs": [
    {
     "data": {
      "text/plain": [
       "2.037035976334486e+90"
      ]
     },
     "execution_count": 50,
     "metadata": {},
     "output_type": "execute_result"
    }
   ],
   "source": [
    "2.0 ** 300"
   ]
  },
  {
   "cell_type": "markdown",
   "metadata": {
    "slideshow": {
     "slide_type": "slide"
    }
   },
   "source": [
    "### As armadilhas do ```float```\n",
    "* `float`s têm tamanho limitado (mas o limite é enorme).\n",
    "* `float`s têm precisão limitada de 15-16 casas decimais.\n",
    "* Depois da aritmética, as últimas casas decimais podem estar erradas de maneiras inesperadas (precisão limitada!)."
   ]
  },
  {
   "cell_type": "code",
   "execution_count": 51,
   "metadata": {
    "execution": {
     "iopub.execute_input": "2025-03-30T17:37:32.077135Z",
     "iopub.status.busy": "2025-03-30T17:37:32.076793Z",
     "iopub.status.idle": "2025-03-30T17:37:32.079355Z",
     "shell.execute_reply": "2025-03-30T17:37:32.079049Z"
    },
    "slideshow": {
     "slide_type": "-"
    }
   },
   "outputs": [
    {
     "data": {
      "text/plain": [
       "1.2"
      ]
     },
     "execution_count": 51,
     "metadata": {},
     "output_type": "execute_result"
    }
   ],
   "source": [
    "1 + 0.2"
   ]
  },
  {
   "cell_type": "code",
   "execution_count": 52,
   "metadata": {
    "execution": {
     "iopub.execute_input": "2025-03-30T17:37:32.080884Z",
     "iopub.status.busy": "2025-03-30T17:37:32.080705Z",
     "iopub.status.idle": "2025-03-30T17:37:32.082942Z",
     "shell.execute_reply": "2025-03-30T17:37:32.082689Z"
    },
    "tags": [
     "raises-exception"
    ]
   },
   "outputs": [
    {
     "data": {
      "text/plain": [
       "1.2000000000000002"
      ]
     },
     "execution_count": 52,
     "metadata": {},
     "output_type": "execute_result"
    }
   ],
   "source": [
    "1 + 0.1 + 0.1"
   ]
  },
  {
   "cell_type": "code",
   "execution_count": 53,
   "metadata": {
    "execution": {
     "iopub.execute_input": "2025-03-30T17:37:32.084238Z",
     "iopub.status.busy": "2025-03-30T17:37:32.084060Z",
     "iopub.status.idle": "2025-03-30T17:37:32.085685Z",
     "shell.execute_reply": "2025-03-30T17:37:32.085391Z"
    }
   },
   "outputs": [],
   "source": [
    "# Descomente e execute\n",
    "# 2.0 ** 3000"
   ]
  },
  {
   "cell_type": "markdown",
   "metadata": {
    "slideshow": {
     "slide_type": "slide"
    }
   },
   "source": [
    "### Coerção de tipo entre ```int``` e ```float```\n",
    "- Por padrão, Python muda um `int` para um `float` em uma expressão mista envolvendo ambos os tipos.\n",
    "- Observe que a divisão de dois `int`s retorna automaticamente um valor `float`.\n",
    "- Um valor pode ser explicitamente **coagido** (ou seja, convertido) usando as funções ```int``` e ```float```."
   ]
  },
  {
   "cell_type": "code",
   "execution_count": 54,
   "metadata": {
    "execution": {
     "iopub.execute_input": "2025-03-30T17:37:32.087125Z",
     "iopub.status.busy": "2025-03-30T17:37:32.086924Z",
     "iopub.status.idle": "2025-03-30T17:37:32.089277Z",
     "shell.execute_reply": "2025-03-30T17:37:32.088982Z"
    },
    "slideshow": {
     "slide_type": "-"
    }
   },
   "outputs": [
    {
     "data": {
      "text/plain": [
       "5.0"
      ]
     },
     "execution_count": 54,
     "metadata": {},
     "output_type": "execute_result"
    }
   ],
   "source": [
    "2.0 + 3"
   ]
  },
  {
   "cell_type": "code",
   "execution_count": 55,
   "metadata": {
    "execution": {
     "iopub.execute_input": "2025-03-30T17:37:32.090913Z",
     "iopub.status.busy": "2025-03-30T17:37:32.090739Z",
     "iopub.status.idle": "2025-03-30T17:37:32.093799Z",
     "shell.execute_reply": "2025-03-30T17:37:32.093482Z"
    }
   },
   "outputs": [
    {
     "data": {
      "text/plain": [
       "2.0"
      ]
     },
     "execution_count": 55,
     "metadata": {},
     "output_type": "execute_result"
    }
   ],
   "source": [
    "2 / 1"
   ]
  },
  {
   "cell_type": "code",
   "execution_count": 56,
   "metadata": {
    "execution": {
     "iopub.execute_input": "2025-03-30T17:37:32.095067Z",
     "iopub.status.busy": "2025-03-30T17:37:32.094932Z",
     "iopub.status.idle": "2025-03-30T17:37:32.097349Z",
     "shell.execute_reply": "2025-03-30T17:37:32.097055Z"
    }
   },
   "outputs": [
    {
     "data": {
      "text/plain": [
       "2"
      ]
     },
     "execution_count": 56,
     "metadata": {},
     "output_type": "execute_result"
    }
   ],
   "source": [
    "# Want an integer back\n",
    "int(2 / 1)"
   ]
  },
  {
   "cell_type": "code",
   "execution_count": 57,
   "metadata": {
    "execution": {
     "iopub.execute_input": "2025-03-30T17:37:32.098766Z",
     "iopub.status.busy": "2025-03-30T17:37:32.098462Z",
     "iopub.status.idle": "2025-03-30T17:37:32.100738Z",
     "shell.execute_reply": "2025-03-30T17:37:32.100450Z"
    }
   },
   "outputs": [
    {
     "data": {
      "text/plain": [
       "3"
      ]
     },
     "execution_count": 57,
     "metadata": {},
     "output_type": "execute_result"
    }
   ],
   "source": [
    "# int chops off the decimal point, effectively rounding DOWN\n",
    "int(3.9)"
   ]
  },
  {
   "cell_type": "markdown",
   "metadata": {
    "slideshow": {
     "slide_type": "slide"
    }
   },
   "source": [
    "### À parte: modelo de memória Jupyter\n",
    "\n",
    "<center><img src='https://raw.githubusercontent.com/flaviovdf/fcd/master/assets/03-Expressoes/images/elephant.png' width=20%></center>\n",
    "\n",
    "Nosso caderno **ainda** lembra todas as variáveis ​​que definimos anteriormente na aula."
   ]
  },
  {
   "cell_type": "code",
   "execution_count": 58,
   "metadata": {
    "execution": {
     "iopub.execute_input": "2025-03-30T17:37:32.101992Z",
     "iopub.status.busy": "2025-03-30T17:37:32.101807Z",
     "iopub.status.idle": "2025-03-30T17:37:32.104065Z",
     "shell.execute_reply": "2025-03-30T17:37:32.103809Z"
    }
   },
   "outputs": [
    {
     "data": {
      "text/plain": [
       "10"
      ]
     },
     "execution_count": 58,
     "metadata": {},
     "output_type": "execute_result"
    }
   ],
   "source": [
    "more_than_1"
   ]
  },
  {
   "cell_type": "markdown",
   "metadata": {
    "slideshow": {
     "slide_type": "fragment"
    }
   },
   "source": [
    "- No entanto, se você voltar ao seu notebook depois de algumas horas, ele normalmente “esquecerá” todas as variáveis ​​que conhecia.\n",
    "- Quando isso acontecer, você precisará executar novamente as células do seu notebook."
   ]
  },
  {
   "cell_type": "markdown",
   "metadata": {
    "slideshow": {
     "slide_type": "slide"
    }
   },
   "source": [
    "## Resumo, da próxima vez"
   ]
  },
  {
   "cell_type": "markdown",
   "metadata": {
    "slideshow": {
     "slide_type": "slide"
    }
   },
   "source": [
    "### Resumo\n",
    "\n",
    "- Expressões são avaliadas como valores. Python exibirá o valor da última expressão em uma célula por padrão.\n",
    "- Python conhece todos os operadores matemáticos padrão e segue PEMDAS.\n",
    "- As instruções de atribuição nos permitem vincular valores a variáveis.\n",
    "- Podemos chamar funções em Python da mesma forma que chamamos funções em matemática.\n",
    "- Python conhece algumas funções por padrão, e as instruções de importação nos permitem trazer funcionalidades adicionais dos módulos.\n",
    "- Todos os valores em Python possuem um tipo de dados.\n",
    "- `int`s e `float`s são números.\n",
    "- `int`s são inteiros, enquanto `float`s contêm pontos decimais."
   ]
  },
  {
   "cell_type": "markdown",
   "metadata": {
    "slideshow": {
     "slide_type": "slide"
    }
   },
   "source": [
    "### Próxima vez\n",
    "\n",
    "- Aprenderemos sobre strings, um tipo de dados em Python projetado para armazenar texto.\n",
    "- Também aprenderemos como armazenar sequências, ou muitas informações, em uma única variável.\n",
    "\n",
    "**Observação:** Apresentaremos alguns códigos em laboratórios e trabalhos de casa também. Nem tudo estará em palestra. **Você aprenderá fazendo!**"
   ]
  }
 ],
 "metadata": {
  "kernelspec": {
   "display_name": "Python 3 (ipykernel)",
   "language": "python",
   "name": "python3"
  },
  "language_info": {
   "codemirror_mode": {
    "name": "ipython",
    "version": 3
   },
   "file_extension": ".py",
   "mimetype": "text/x-python",
   "name": "python",
   "nbconvert_exporter": "python",
   "pygments_lexer": "ipython3",
   "version": "3.12.7"
  },
  "livereveal": {
   "scroll": true,
   "transition": "none"
  },
  "rise": {
   "enable_chalkboard": true
  }
 },
 "nbformat": 4,
 "nbformat_minor": 2
}
