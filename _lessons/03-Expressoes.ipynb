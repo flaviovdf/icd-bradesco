{
 "cells": [
  {
   "cell_type": "markdown",
   "metadata": {
    "slideshow": {
     "slide_type": "slide"
    }
   },
   "source": [
    "---\n",
    "layout: page\n",
    "title: Expressões\n",
    "nav_order: 3\n",
    "---\n",
    "[<img src=\"https://raw.githubusercontent.com/flaviovdf/fcd/master/assets/colab_favicon_small.png\" style=\"float: right;\">](https://colab.research.google.com/github/flaviovdf/fcd/blob/master/_lessons/03-Expressoes.ipynb)\n",
    "\n",
    "# Tópico 3 - Expressões\n",
    "{: .no_toc .mb-2 }\n",
    "\n",
    "Primeiros passos em Python.\n",
    "{: .fs-6 .fw-300 }\n",
    "\n",
    "{: .no_toc .text-delta }\n",
    "Resultados Esperados\n",
    "\n",
    "1. Saber o que é um notebook e um arquivo `.py`\n",
    "1. Saber realizar matemática simples em python\n",
    "1. Entender as ferramentas base da ciência de dados\n",
    "\n",
    "{: .no_toc .text-delta }\n",
    "Material Adaptado do [DSC10 (UCSD)](https://dsc10.com/)"
   ]
  },
  {
   "cell_type": "code",
   "execution_count": 1,
   "metadata": {
    "execution": {
     "iopub.execute_input": "2025-03-30T17:47:09.339495Z",
     "iopub.status.busy": "2025-03-30T17:47:09.339315Z",
     "iopub.status.idle": "2025-03-30T17:47:09.342333Z",
     "shell.execute_reply": "2025-03-30T17:47:09.342019Z"
    },
    "slideshow": {
     "slide_type": "skip"
    }
   },
   "outputs": [],
   "source": [
    "# Ignore este código, porém execute o mesmo\n",
    "\n",
    "from IPython.display import IFrame\n",
    "def show_nested_eval():\n",
    "    src = 'https://docs.google.com/presentation/d/e/2PACX-1vQpW0NzwT3LjZsIIDAgtSMRM1cl41Gp_Lf8k9GT-gm5sGAIynw4rsgiEFbIybClD6QtxarKaVKLbR9U/embed?start=false&loop=false&delayms=60000\" frameborder=\"0\" width=\"960\" height=\"569\" allowfullscreen=\"true\" mozallowfullscreen=\"true\" webkitallowfullscreen=\"true\"'\n",
    "    width = 960\n",
    "    height = 569\n",
    "    return IFrame(src, width, height)"
   ]
  },
  {
   "cell_type": "markdown",
   "metadata": {
    "slideshow": {
     "slide_type": "slide"
    }
   },
   "source": [
    "### Agenda\n",
    "\n",
    "- O que é código? O que são notebooks Jupyter?\n",
    "- Expressões.\n",
    "- Variáveis.\n",
    "- Expressões de chamada.\n",
    "- Tipos de dados.\n",
    "\n",
    "Muita programação – acompanhe no notebook clicando no link do Collab acima!"
   ]
  },
  {
   "cell_type": "markdown",
   "metadata": {
    "slideshow": {
     "slide_type": "slide"
    }
   },
   "source": [
    "## O que é código? O que são notebooks Jupyter? 💻"
   ]
  },
  {
   "cell_type": "markdown",
   "metadata": {
    "slideshow": {
     "slide_type": "slide"
    }
   },
   "source": [
    "### O que é código?\n",
    "\n",
    "- As instruções para computadores são escritas em **linguagens de programação** e são chamadas de **código**.\n",
    "- “Programas de computador” nada mais são do que **receitas**: escrevemos programas que dizem ao computador exatamente o que fazer, e ele faz exatamente isso – nada mais e nada menos."
   ]
  },
  {
   "cell_type": "markdown",
   "metadata": {
    "slideshow": {
     "slide_type": "slide"
    }
   },
   "source": [
    "### Por que Python?\n",
    "\n",
    "<center>\n",
    "<img src='https://raw.githubusercontent.com/flaviovdf/fcd/master/assets/03-Expressoes/images/languages.jpg' width=400>\n",
    "</center>\n",
    "\n",
    "- Popular.\n",
    "- Variedade de usos.\n",
    "- Desenvolvimento web.\n",
    "- Ciência de dados e aprendizado de máquina.\n",
    "- Não é realmente usado para desenvolvimento de aplicativos.\n",
    "- Fácil de mergulhar!"
   ]
  },
  {
   "cell_type": "markdown",
   "metadata": {
    "slideshow": {
     "slide_type": "slide"
    }
   },
   "source": [
    "### Notebooks Jupyter 📓\n",
    "\n",
    "- Frequentemente, mas não nesta classe, o código é escrito em um editor de texto e depois executado em uma interface de linha de comando.\n",
    "\n",
    "<center>\n",
    "<img src='https://raw.githubusercontent.com/flaviovdf/fcd/master/assets/03-Expressoes/images/terminal.png' width=800>\n",
    "</center>\n",
    "\n",
    "- **Jupyter Notebooks** nos permite escrever e executar código em um único documento. Eles também nos permitem incorporar texto e código. **Usaremos Jupyter Notebooks durante todo o trimestre**."
   ]
  },
  {
   "cell_type": "markdown",
   "metadata": {
    "slideshow": {
     "slide_type": "slide"
    }
   },
   "source": [
    "## Expressões"
   ]
  },
  {
   "cell_type": "markdown",
   "metadata": {
    "slideshow": {
     "slide_type": "slide"
    }
   },
   "source": [
    "### Python como calculadora\n",
    "\n",
    "- Uma **expressão** é uma combinação de valores, operadores e funções que **avalia** algum **valor**."
   ]
  },
  {
   "cell_type": "markdown",
   "metadata": {
    "slideshow": {
     "slide_type": "fragment"
    }
   },
   "source": [
    "- Por enquanto, vamos pensar no Python como uma calculadora – ele pega expressões e as avalia."
   ]
  },
  {
   "cell_type": "markdown",
   "metadata": {
    "slideshow": {
     "slide_type": "fragment"
    }
   },
   "source": [
    "- Inseriremos nossas expressões em **células de código**. Para executar uma célula de código:\n",
    "- **Pressione `shift` + `enter` (ou `shift` + `return`) no teclado (de preferência)**, ou\n",
    "- Pressione o botão \"▶ Executar\" na barra de ferramentas."
   ]
  },
  {
   "cell_type": "code",
   "execution_count": 2,
   "metadata": {
    "execution": {
     "iopub.execute_input": "2025-03-30T17:47:09.343963Z",
     "iopub.status.busy": "2025-03-30T17:47:09.343850Z",
     "iopub.status.idle": "2025-03-30T17:47:09.347480Z",
     "shell.execute_reply": "2025-03-30T17:47:09.347145Z"
    },
    "slideshow": {
     "slide_type": "fragment"
    }
   },
   "outputs": [
    {
     "data": {
      "text/plain": [
       "17"
      ]
     },
     "execution_count": 2,
     "metadata": {},
     "output_type": "execute_result"
    }
   ],
   "source": [
    "17"
   ]
  },
  {
   "cell_type": "code",
   "execution_count": 3,
   "metadata": {
    "execution": {
     "iopub.execute_input": "2025-03-30T17:47:09.370050Z",
     "iopub.status.busy": "2025-03-30T17:47:09.369879Z",
     "iopub.status.idle": "2025-03-30T17:47:09.372690Z",
     "shell.execute_reply": "2025-03-30T17:47:09.372357Z"
    }
   },
   "outputs": [
    {
     "data": {
      "text/plain": [
       "2.14"
      ]
     },
     "execution_count": 3,
     "metadata": {},
     "output_type": "execute_result"
    }
   ],
   "source": [
    "-1 + 3.14"
   ]
  },
  {
   "cell_type": "code",
   "execution_count": 4,
   "metadata": {
    "execution": {
     "iopub.execute_input": "2025-03-30T17:47:09.374143Z",
     "iopub.status.busy": "2025-03-30T17:47:09.374018Z",
     "iopub.status.idle": "2025-03-30T17:47:09.376441Z",
     "shell.execute_reply": "2025-03-30T17:47:09.376149Z"
    }
   },
   "outputs": [
    {
     "data": {
      "text/plain": [
       "8"
      ]
     },
     "execution_count": 4,
     "metadata": {},
     "output_type": "execute_result"
    }
   ],
   "source": [
    "2 ** 3"
   ]
  },
  {
   "cell_type": "code",
   "execution_count": 5,
   "metadata": {
    "execution": {
     "iopub.execute_input": "2025-03-30T17:47:09.377870Z",
     "iopub.status.busy": "2025-03-30T17:47:09.377752Z",
     "iopub.status.idle": "2025-03-30T17:47:09.380104Z",
     "shell.execute_reply": "2025-03-30T17:47:09.379809Z"
    }
   },
   "outputs": [
    {
     "data": {
      "text/plain": [
       "1.5"
      ]
     },
     "execution_count": 5,
     "metadata": {},
     "output_type": "execute_result"
    }
   ],
   "source": [
    "(17 - 14) / 2"
   ]
  },
  {
   "cell_type": "code",
   "execution_count": 6,
   "metadata": {
    "execution": {
     "iopub.execute_input": "2025-03-30T17:47:09.381462Z",
     "iopub.status.busy": "2025-03-30T17:47:09.381351Z",
     "iopub.status.idle": "2025-03-30T17:47:09.383843Z",
     "shell.execute_reply": "2025-03-30T17:47:09.383527Z"
    },
    "scrolled": true
   },
   "outputs": [
    {
     "data": {
      "text/plain": [
       "5"
      ]
     },
     "execution_count": 6,
     "metadata": {},
     "output_type": "execute_result"
    }
   ],
   "source": [
    "# Only one value is displayed. Why?\n",
    "3 * 4\n",
    "5"
   ]
  },
  {
   "cell_type": "markdown",
   "metadata": {
    "slideshow": {
     "slide_type": "slide"
    }
   },
   "source": [
    "### Operaçoes aritimeticas\n",
    "\n",
    "| Operação | Operador | Exemplo | Valor |\n",
    "| --- | --- | --- | --- |\n",
    "| Adição | `+` | `2 + 3` | `5` |\n",
    "| Subtração | `-` | `2 - 3` | `-1` |\n",
    "| Multiplicação | `*` | `2 * 3` | `6` |\n",
    "| Divisão | `/` | `7/3` | `2.66667` |\n",
    "| Restante | `%` | `7% 3` | `1` |\n",
    "| Exponenciação | `**` | `2 ** 0,5` | `1.41421` |"
   ]
  },
  {
   "cell_type": "markdown",
   "metadata": {
    "slideshow": {
     "slide_type": "slide"
    }
   },
   "source": [
    "### Python usa a ordem típica de operações – PEMDAS (BEDMAS? 🛏️)"
   ]
  },
  {
   "cell_type": "code",
   "execution_count": 7,
   "metadata": {
    "execution": {
     "iopub.execute_input": "2025-03-30T17:47:09.385183Z",
     "iopub.status.busy": "2025-03-30T17:47:09.385078Z",
     "iopub.status.idle": "2025-03-30T17:47:09.387421Z",
     "shell.execute_reply": "2025-03-30T17:47:09.387131Z"
    }
   },
   "outputs": [
    {
     "data": {
      "text/plain": [
       "12"
      ]
     },
     "execution_count": 7,
     "metadata": {},
     "output_type": "execute_result"
    }
   ],
   "source": [
    "3 * 2 ** 2"
   ]
  },
  {
   "cell_type": "code",
   "execution_count": 8,
   "metadata": {
    "execution": {
     "iopub.execute_input": "2025-03-30T17:47:09.388742Z",
     "iopub.status.busy": "2025-03-30T17:47:09.388627Z",
     "iopub.status.idle": "2025-03-30T17:47:09.390857Z",
     "shell.execute_reply": "2025-03-30T17:47:09.390599Z"
    }
   },
   "outputs": [
    {
     "data": {
      "text/plain": [
       "36"
      ]
     },
     "execution_count": 8,
     "metadata": {},
     "output_type": "execute_result"
    }
   ],
   "source": [
    "(3 * 2) ** 2"
   ]
  },
  {
   "cell_type": "markdown",
   "metadata": {
    "slideshow": {
     "slide_type": "slide"
    }
   },
   "source": [
    "### Atividade\n",
    "\n",
    "Na célula abaixo, substitua as reticências por uma expressão equivalente a\n",
    "\n",
    "$$(19 + 6 \\cdot 3) - 15 \\cdot \\left(\\sqrt{100} \\cdot \\frac{1}{30}\\right) \\cdot \\frac{3}{5} + \\frac{4 ^2}{2^3} + \\left( 6 - \\frac{2}{3} \\right) \\cdot 12 $$\n",
    "\n",
    "Tente usar parênteses somente quando necessário."
   ]
  },
  {
   "cell_type": "code",
   "execution_count": 9,
   "metadata": {
    "execution": {
     "iopub.execute_input": "2025-03-30T17:47:09.392064Z",
     "iopub.status.busy": "2025-03-30T17:47:09.391963Z",
     "iopub.status.idle": "2025-03-30T17:47:09.394128Z",
     "shell.execute_reply": "2025-03-30T17:47:09.393864Z"
    }
   },
   "outputs": [
    {
     "data": {
      "text/plain": [
       "Ellipsis"
      ]
     },
     "execution_count": 9,
     "metadata": {},
     "output_type": "execute_result"
    }
   ],
   "source": [
    "..."
   ]
  },
  {
   "cell_type": "markdown",
   "metadata": {
    "slideshow": {
     "slide_type": "slide"
    }
   },
   "source": [
    "## Variáveis"
   ]
  },
  {
   "cell_type": "markdown",
   "metadata": {
    "slideshow": {
     "slide_type": "slide"
    }
   },
   "source": [
    "### Motivação\n",
    "\n",
    "Abaixo, calculamos o número de segundos em um ano."
   ]
  },
  {
   "cell_type": "code",
   "execution_count": 10,
   "metadata": {
    "execution": {
     "iopub.execute_input": "2025-03-30T17:47:09.395370Z",
     "iopub.status.busy": "2025-03-30T17:47:09.395269Z",
     "iopub.status.idle": "2025-03-30T17:47:09.397562Z",
     "shell.execute_reply": "2025-03-30T17:47:09.397244Z"
    }
   },
   "outputs": [
    {
     "data": {
      "text/plain": [
       "31536000"
      ]
     },
     "execution_count": 10,
     "metadata": {},
     "output_type": "execute_result"
    }
   ],
   "source": [
    "60 * 60 * 24 * 365"
   ]
  },
  {
   "cell_type": "markdown",
   "metadata": {
    "slideshow": {
     "slide_type": "fragment"
    }
   },
   "source": [
    "Se quisermos utilizar o valor acima mais tarde no nosso bloco de notas para determinar, digamos, o número de segundos em 12 anos, teremos de copiar e colar a expressão. **Isso é inconveniente e propenso a introduzir erros.**"
   ]
  },
  {
   "cell_type": "code",
   "execution_count": 11,
   "metadata": {
    "execution": {
     "iopub.execute_input": "2025-03-30T17:47:09.398874Z",
     "iopub.status.busy": "2025-03-30T17:47:09.398750Z",
     "iopub.status.idle": "2025-03-30T17:47:09.401156Z",
     "shell.execute_reply": "2025-03-30T17:47:09.400882Z"
    }
   },
   "outputs": [
    {
     "data": {
      "text/plain": [
       "378432000"
      ]
     },
     "execution_count": 11,
     "metadata": {},
     "output_type": "execute_result"
    }
   ],
   "source": [
    "60 * 60 * 24 * 365 * 12"
   ]
  },
  {
   "cell_type": "markdown",
   "metadata": {
    "slideshow": {
     "slide_type": "fragment"
    }
   },
   "source": [
    "Seria ótimo se pudéssemos **armazenar** o valor inicial e consultá-lo mais tarde!"
   ]
  },
  {
   "cell_type": "markdown",
   "metadata": {
    "slideshow": {
     "slide_type": "slide"
    }
   },
   "source": [
    "### Variáveis ​​e instruções de atribuição\n",
    "\n",
    "- Uma **variável** é um local para armazenar um valor para que possa ser consultado posteriormente em nosso código. Para definir uma variável, usamos uma **instrução de atribuição**.\n",
    "\n",
    "$$ \\overbrace{\\texttt{minhavariável}}^{\\text{nome}} = \\overbrace{\\texttt{2 + 3}}^{\\text{qualquer expressão}} $$"
   ]
  },
  {
   "cell_type": "markdown",
   "metadata": {
    "slideshow": {
     "slide_type": "fragment"
    }
   },
   "source": [
    "- Uma instrução de atribuição altera o significado do **nome** à esquerda do símbolo `=`."
   ]
  },
  {
   "cell_type": "markdown",
   "metadata": {
    "slideshow": {
     "slide_type": "fragment"
    }
   },
   "source": [
    "- A expressão do lado direito do símbolo `=` é avaliada antes de ser atribuída ao nome do lado esquerdo.\n",
    "* por exemplo. `myvariable` está vinculado a `5` (valor) e não a `2 + 3` (expressão)."
   ]
  },
  {
   "cell_type": "markdown",
   "metadata": {
    "slideshow": {
     "slide_type": "slide"
    }
   },
   "source": [
    "Observe que antes de usá-lo em uma instrução de atribuição, `more_than_1` não tem significado."
   ]
  },
  {
   "cell_type": "code",
   "execution_count": 12,
   "metadata": {
    "execution": {
     "iopub.execute_input": "2025-03-30T17:47:09.402458Z",
     "iopub.status.busy": "2025-03-30T17:47:09.402344Z",
     "iopub.status.idle": "2025-03-30T17:47:09.403997Z",
     "shell.execute_reply": "2025-03-30T17:47:09.403726Z"
    },
    "scrolled": true
   },
   "outputs": [],
   "source": [
    "# Descomente e execute\n",
    "# more_than_1"
   ]
  },
  {
   "cell_type": "markdown",
   "metadata": {
    "slideshow": {
     "slide_type": "fragment"
    }
   },
   "source": [
    "Depois de usá-lo em uma instrução de atribuição, podemos perguntar ao Python seu valor."
   ]
  },
  {
   "cell_type": "code",
   "execution_count": 13,
   "metadata": {
    "execution": {
     "iopub.execute_input": "2025-03-30T17:47:09.405210Z",
     "iopub.status.busy": "2025-03-30T17:47:09.405106Z",
     "iopub.status.idle": "2025-03-30T17:47:09.406822Z",
     "shell.execute_reply": "2025-03-30T17:47:09.406556Z"
    }
   },
   "outputs": [],
   "source": [
    "# Note that an assignment statement doesn't output anything!\n",
    "more_than_1 = 15 - 5"
   ]
  },
  {
   "cell_type": "code",
   "execution_count": 14,
   "metadata": {
    "execution": {
     "iopub.execute_input": "2025-03-30T17:47:09.408037Z",
     "iopub.status.busy": "2025-03-30T17:47:09.407929Z",
     "iopub.status.idle": "2025-03-30T17:47:09.410168Z",
     "shell.execute_reply": "2025-03-30T17:47:09.409912Z"
    }
   },
   "outputs": [
    {
     "data": {
      "text/plain": [
       "10"
      ]
     },
     "execution_count": 14,
     "metadata": {},
     "output_type": "execute_result"
    }
   ],
   "source": [
    "more_than_1"
   ]
  },
  {
   "cell_type": "markdown",
   "metadata": {
    "slideshow": {
     "slide_type": "fragment"
    }
   },
   "source": [
    "Sempre que usamos `more_than_1` em uma expressão, `10` é substituído por `10`."
   ]
  },
  {
   "cell_type": "code",
   "execution_count": 15,
   "metadata": {
    "execution": {
     "iopub.execute_input": "2025-03-30T17:47:09.411432Z",
     "iopub.status.busy": "2025-03-30T17:47:09.411328Z",
     "iopub.status.idle": "2025-03-30T17:47:09.413504Z",
     "shell.execute_reply": "2025-03-30T17:47:09.413262Z"
    }
   },
   "outputs": [
    {
     "data": {
      "text/plain": [
       "20"
      ]
     },
     "execution_count": 15,
     "metadata": {},
     "output_type": "execute_result"
    }
   ],
   "source": [
    "more_than_1 * 2"
   ]
  },
  {
   "cell_type": "markdown",
   "metadata": {
    "slideshow": {
     "slide_type": "fragment"
    }
   },
   "source": [
    "Observe que a expressão acima **não alterou** o valor de `more_than_1`, porque **não reatribuímos `more_than_1`**!"
   ]
  },
  {
   "cell_type": "code",
   "execution_count": 16,
   "metadata": {
    "execution": {
     "iopub.execute_input": "2025-03-30T17:47:09.414734Z",
     "iopub.status.busy": "2025-03-30T17:47:09.414633Z",
     "iopub.status.idle": "2025-03-30T17:47:09.416800Z",
     "shell.execute_reply": "2025-03-30T17:47:09.416552Z"
    }
   },
   "outputs": [
    {
     "data": {
      "text/plain": [
       "10"
      ]
     },
     "execution_count": 16,
     "metadata": {},
     "output_type": "execute_result"
    }
   ],
   "source": [
    "more_than_1"
   ]
  },
  {
   "cell_type": "markdown",
   "metadata": {
    "slideshow": {
     "slide_type": "slide"
    }
   },
   "source": [
    "### Nomeando variáveis\n",
    "\n",
    "- Geralmente, dê nomes úteis às suas variáveis ​​para que você saiba a que elas se referem.\n",
    "- Os nomes das variáveis ​​podem conter caracteres maiúsculos e minúsculos, dígitos de 0 a 9 e sublinhados.\n",
    "- Eles não podem começar com um número.\n",
    "- Eles diferenciam maiúsculas de minúsculas!"
   ]
  },
  {
   "cell_type": "markdown",
   "metadata": {
    "slideshow": {
     "slide_type": "fragment"
    }
   },
   "source": [
    "As instruções de atribuição a seguir são **válidas**, mas usam nomes de variáveis ​​**ruins** 😕."
   ]
  },
  {
   "cell_type": "code",
   "execution_count": 17,
   "metadata": {
    "execution": {
     "iopub.execute_input": "2025-03-30T17:47:09.418053Z",
     "iopub.status.busy": "2025-03-30T17:47:09.417947Z",
     "iopub.status.idle": "2025-03-30T17:47:09.419650Z",
     "shell.execute_reply": "2025-03-30T17:47:09.419398Z"
    }
   },
   "outputs": [],
   "source": [
    "six = 15"
   ]
  },
  {
   "cell_type": "code",
   "execution_count": 18,
   "metadata": {
    "execution": {
     "iopub.execute_input": "2025-03-30T17:47:09.420783Z",
     "iopub.status.busy": "2025-03-30T17:47:09.420683Z",
     "iopub.status.idle": "2025-03-30T17:47:09.422373Z",
     "shell.execute_reply": "2025-03-30T17:47:09.422116Z"
    }
   },
   "outputs": [],
   "source": [
    "i_45love_chocolate_9999 = 60 * 60 * 24 * 365"
   ]
  },
  {
   "cell_type": "markdown",
   "metadata": {
    "slideshow": {
     "slide_type": "fragment"
    }
   },
   "source": [
    "As instruções de atribuição a seguir são **válidas** e usam nomes de variáveis ​​**bons** ✅."
   ]
  },
  {
   "cell_type": "code",
   "execution_count": 19,
   "metadata": {
    "execution": {
     "iopub.execute_input": "2025-03-30T17:47:09.423522Z",
     "iopub.status.busy": "2025-03-30T17:47:09.423423Z",
     "iopub.status.idle": "2025-03-30T17:47:09.425178Z",
     "shell.execute_reply": "2025-03-30T17:47:09.424920Z"
    },
    "tags": [
     "raises-exception"
    ]
   },
   "outputs": [],
   "source": [
    "seconds_per_hour = 60 * 60\n",
    "hours_per_year = 24 * 365\n",
    "seconds_per_year = seconds_per_hour * hours_per_year"
   ]
  },
  {
   "cell_type": "markdown",
   "metadata": {
    "slideshow": {
     "slide_type": "fragment"
    }
   },
   "source": [
    "As seguintes \"declarações de atribuição\" são **inválidas ❌**."
   ]
  },
  {
   "cell_type": "code",
   "execution_count": 20,
   "metadata": {
    "execution": {
     "iopub.execute_input": "2025-03-30T17:47:09.426358Z",
     "iopub.status.busy": "2025-03-30T17:47:09.426258Z",
     "iopub.status.idle": "2025-03-30T17:47:09.427866Z",
     "shell.execute_reply": "2025-03-30T17:47:09.427606Z"
    }
   },
   "outputs": [],
   "source": [
    "# Descomente e execute\n",
    "# 6 = 15"
   ]
  },
  {
   "cell_type": "code",
   "execution_count": 21,
   "metadata": {
    "execution": {
     "iopub.execute_input": "2025-03-30T17:47:09.429043Z",
     "iopub.status.busy": "2025-03-30T17:47:09.428943Z",
     "iopub.status.idle": "2025-03-30T17:47:09.430586Z",
     "shell.execute_reply": "2025-03-30T17:47:09.430325Z"
    }
   },
   "outputs": [],
   "source": [
    "# Descomente e execute\n",
    "# 3 = 2 + 1"
   ]
  },
  {
   "cell_type": "markdown",
   "metadata": {
    "slideshow": {
     "slide_type": "slide"
    }
   },
   "source": [
    "### Declarações de atribuição não são equações matemáticas!\n",
    "\n",
    "- Ao contrário da matemática, onde $x = 3$ significa a mesma coisa que $3 = x$, as instruções de atribuição **não** são \"simétricas\".\n",
    "- Uma instrução de atribuição atribui (ou \"liga\") o nome à esquerda de `=` ao valor à direita de `=`, nada mais."
   ]
  },
  {
   "cell_type": "code",
   "execution_count": 22,
   "metadata": {
    "execution": {
     "iopub.execute_input": "2025-03-30T17:47:09.431850Z",
     "iopub.status.busy": "2025-03-30T17:47:09.431737Z",
     "iopub.status.idle": "2025-03-30T17:47:09.434005Z",
     "shell.execute_reply": "2025-03-30T17:47:09.433752Z"
    }
   },
   "outputs": [
    {
     "data": {
      "text/plain": [
       "3"
      ]
     },
     "execution_count": 22,
     "metadata": {},
     "output_type": "execute_result"
    }
   ],
   "source": [
    "x = 3\n",
    "x"
   ]
  },
  {
   "cell_type": "code",
   "execution_count": 23,
   "metadata": {
    "execution": {
     "iopub.execute_input": "2025-03-30T17:47:09.435238Z",
     "iopub.status.busy": "2025-03-30T17:47:09.435133Z",
     "iopub.status.idle": "2025-03-30T17:47:09.436730Z",
     "shell.execute_reply": "2025-03-30T17:47:09.436469Z"
    }
   },
   "outputs": [],
   "source": [
    "# Descomente e execute\n",
    "# 4 = x"
   ]
  },
  {
   "cell_type": "markdown",
   "metadata": {
    "slideshow": {
     "slide_type": "slide"
    }
   },
   "source": [
    "### O valor de uma variável é definido no momento da atribuição"
   ]
  },
  {
   "cell_type": "code",
   "execution_count": 24,
   "metadata": {
    "execution": {
     "iopub.execute_input": "2025-03-30T17:47:09.437882Z",
     "iopub.status.busy": "2025-03-30T17:47:09.437783Z",
     "iopub.status.idle": "2025-03-30T17:47:09.439479Z",
     "shell.execute_reply": "2025-03-30T17:47:09.439217Z"
    }
   },
   "outputs": [],
   "source": [
    "uc = 2\n",
    "sd = 3 + uc"
   ]
  },
  {
   "cell_type": "markdown",
   "metadata": {
    "slideshow": {
     "slide_type": "fragment"
    }
   },
   "source": [
    "As declarações de atribuição não são **promessas** – o valor de uma variável pode mudar!"
   ]
  },
  {
   "cell_type": "code",
   "execution_count": 25,
   "metadata": {
    "execution": {
     "iopub.execute_input": "2025-03-30T17:47:09.440627Z",
     "iopub.status.busy": "2025-03-30T17:47:09.440524Z",
     "iopub.status.idle": "2025-03-30T17:47:09.442232Z",
     "shell.execute_reply": "2025-03-30T17:47:09.441958Z"
    }
   },
   "outputs": [],
   "source": [
    "uc = 7"
   ]
  },
  {
   "cell_type": "markdown",
   "metadata": {
    "slideshow": {
     "slide_type": "fragment"
    }
   },
   "source": [
    "Observe que mesmo depois de alterar `uc`, não alteramos `sd`, então ainda é o mesmo de antes."
   ]
  },
  {
   "cell_type": "code",
   "execution_count": 26,
   "metadata": {
    "execution": {
     "iopub.execute_input": "2025-03-30T17:47:09.443557Z",
     "iopub.status.busy": "2025-03-30T17:47:09.443452Z",
     "iopub.status.idle": "2025-03-30T17:47:09.445630Z",
     "shell.execute_reply": "2025-03-30T17:47:09.445375Z"
    }
   },
   "outputs": [
    {
     "data": {
      "text/plain": [
       "5"
      ]
     },
     "execution_count": 26,
     "metadata": {},
     "output_type": "execute_result"
    }
   ],
   "source": [
    "sd"
   ]
  },
  {
   "cell_type": "markdown",
   "metadata": {
    "slideshow": {
     "slide_type": "slide"
    }
   },
   "source": [
    "### Uma analogia útil\n",
    "\n",
    "<center>\n",
    "<img src='https://raw.githubusercontent.com/flaviovdf/fcd/master/assets/03-Expressoes/images/box.png' width=600>\n",
    "</center>\n",
    "\n",
    "- Uma metáfora comum é que as variáveis ​​são como caixas ou contêineres ([source](https://www.tomasbeuzen.com/python-programming-for-data-science/chapters/chapter1-basics.html)).\n",
    "- Outra analogia: uma declaração de atribuição é como colocar um adesivo em um valor."
   ]
  },
  {
   "cell_type": "markdown",
   "metadata": {
    "slideshow": {
     "slide_type": "slide"
    }
   },
   "source": [
    "### Verificação de conceito ✅\n",
    "\n",
    "Suponha que você executou as três linhas de código a seguir:\n",
    "\n",
    "```py\n",
    "side_length = 5\n",
    "area = side_length ** 2\n",
    "side_length = side_length + 2\n",
    "```\n",
    "\n",
    "Quais são os valores de `side_length` e `area` após a execução?\n",
    "\n",
    "A. `comprimento_lateral = 5`, `área = 25`\n",
    "\n",
    "B. `comprimento_lateral = 5`, `área = 49`\n",
    "\n",
    "C. `comprimento_lateral = 7`, `área = 25`\n",
    "\n",
    "D. `comprimento_lateral = 7`, `área = 49`\n",
    "\n",
    "E. Nenhuma das opções acima"
   ]
  },
  {
   "cell_type": "markdown",
   "metadata": {
    "slideshow": {
     "slide_type": "slide"
    }
   },
   "source": [
    "## Expressões de chamada 📞"
   ]
  },
  {
   "cell_type": "markdown",
   "metadata": {
    "slideshow": {
     "slide_type": "slide"
    }
   },
   "source": [
    "### Funções algébricas\n",
    "\n",
    "- Em matemática, as funções recebem alguma entrada e retornam alguma saída.\n",
    "\n",
    "$$f(x, y) = 2x^2 + 3xy - 1$$\n",
    "\n",
    "- Podemos determinar a saída de uma função mesmo se passarmos coisas complicadas.\n",
    "\n",
    "$$f\\left(\\frac{1+2}{3+4}, (-1)^{15}\\right)$$"
   ]
  },
  {
   "cell_type": "markdown",
   "metadata": {
    "slideshow": {
     "slide_type": "slide"
    }
   },
   "source": [
    "### Expressões de chamada\n",
    "\n",
    "* **Expressões de chamada** em Python invocam funções – elas dizem a uma função para \"executar sua receita\".\n",
    "* As funções em Python funcionam da mesma forma que as funções em matemática.\n",
    "* As entradas para funções são chamadas de **argumentos**."
   ]
  },
  {
   "cell_type": "code",
   "execution_count": 27,
   "metadata": {
    "execution": {
     "iopub.execute_input": "2025-03-30T17:47:09.446917Z",
     "iopub.status.busy": "2025-03-30T17:47:09.446817Z",
     "iopub.status.idle": "2025-03-30T17:47:09.449066Z",
     "shell.execute_reply": "2025-03-30T17:47:09.448817Z"
    }
   },
   "outputs": [
    {
     "data": {
      "text/plain": [
       "12"
      ]
     },
     "execution_count": 27,
     "metadata": {},
     "output_type": "execute_result"
    }
   ],
   "source": [
    "abs(-12)"
   ]
  },
  {
   "cell_type": "markdown",
   "metadata": {
    "slideshow": {
     "slide_type": "slide"
    }
   },
   "source": [
    "### Algumas funções podem receber um número variável de argumentos"
   ]
  },
  {
   "cell_type": "code",
   "execution_count": 28,
   "metadata": {
    "execution": {
     "iopub.execute_input": "2025-03-30T17:47:09.450467Z",
     "iopub.status.busy": "2025-03-30T17:47:09.450235Z",
     "iopub.status.idle": "2025-03-30T17:47:09.452470Z",
     "shell.execute_reply": "2025-03-30T17:47:09.452219Z"
    }
   },
   "outputs": [
    {
     "data": {
      "text/plain": [
       "3"
      ]
     },
     "execution_count": 28,
     "metadata": {},
     "output_type": "execute_result"
    }
   ],
   "source": [
    "max(3, -4)"
   ]
  },
  {
   "cell_type": "code",
   "execution_count": 29,
   "metadata": {
    "execution": {
     "iopub.execute_input": "2025-03-30T17:47:09.453607Z",
     "iopub.status.busy": "2025-03-30T17:47:09.453501Z",
     "iopub.status.idle": "2025-03-30T17:47:09.455802Z",
     "shell.execute_reply": "2025-03-30T17:47:09.455572Z"
    }
   },
   "outputs": [
    {
     "data": {
      "text/plain": [
       "10"
      ]
     },
     "execution_count": 29,
     "metadata": {},
     "output_type": "execute_result"
    }
   ],
   "source": [
    "max(2, -3, -6, 10, -4)"
   ]
  },
  {
   "cell_type": "code",
   "execution_count": 30,
   "metadata": {
    "execution": {
     "iopub.execute_input": "2025-03-30T17:47:09.457143Z",
     "iopub.status.busy": "2025-03-30T17:47:09.457038Z",
     "iopub.status.idle": "2025-03-30T17:47:09.459214Z",
     "shell.execute_reply": "2025-03-30T17:47:09.458982Z"
    }
   },
   "outputs": [
    {
     "data": {
      "text/plain": [
       "9"
      ]
     },
     "execution_count": 30,
     "metadata": {},
     "output_type": "execute_result"
    }
   ],
   "source": [
    "# Only two arguments!\n",
    "max(4 + 5, 5 - 4)"
   ]
  },
  {
   "cell_type": "markdown",
   "metadata": {
    "slideshow": {
     "slide_type": "slide"
    }
   },
   "source": [
    "### Use ```?``` depois de uma função para ver a documentação de uma função\n",
    "Ou use a função `help`, por ex. `ajuda(máx.)`."
   ]
  },
  {
   "cell_type": "code",
   "execution_count": 31,
   "metadata": {
    "execution": {
     "iopub.execute_input": "2025-03-30T17:47:09.460597Z",
     "iopub.status.busy": "2025-03-30T17:47:09.460490Z",
     "iopub.status.idle": "2025-03-30T17:47:09.462624Z",
     "shell.execute_reply": "2025-03-30T17:47:09.462345Z"
    }
   },
   "outputs": [],
   "source": [
    "max?"
   ]
  },
  {
   "cell_type": "markdown",
   "metadata": {
    "slideshow": {
     "slide_type": "slide"
    }
   },
   "source": [
    "### Exemplo: `round`"
   ]
  },
  {
   "cell_type": "code",
   "execution_count": 32,
   "metadata": {
    "execution": {
     "iopub.execute_input": "2025-03-30T17:47:09.464001Z",
     "iopub.status.busy": "2025-03-30T17:47:09.463722Z",
     "iopub.status.idle": "2025-03-30T17:47:09.465994Z",
     "shell.execute_reply": "2025-03-30T17:47:09.465738Z"
    }
   },
   "outputs": [
    {
     "data": {
      "text/plain": [
       "1"
      ]
     },
     "execution_count": 32,
     "metadata": {},
     "output_type": "execute_result"
    }
   ],
   "source": [
    "my_number = 1.22\n",
    "round(my_number)"
   ]
  },
  {
   "cell_type": "code",
   "execution_count": 33,
   "metadata": {
    "execution": {
     "iopub.execute_input": "2025-03-30T17:47:09.467252Z",
     "iopub.status.busy": "2025-03-30T17:47:09.467151Z",
     "iopub.status.idle": "2025-03-30T17:47:09.491195Z",
     "shell.execute_reply": "2025-03-30T17:47:09.490890Z"
    }
   },
   "outputs": [],
   "source": [
    "round?"
   ]
  },
  {
   "cell_type": "code",
   "execution_count": 34,
   "metadata": {
    "execution": {
     "iopub.execute_input": "2025-03-30T17:47:09.492730Z",
     "iopub.status.busy": "2025-03-30T17:47:09.492612Z",
     "iopub.status.idle": "2025-03-30T17:47:09.494953Z",
     "shell.execute_reply": "2025-03-30T17:47:09.494689Z"
    }
   },
   "outputs": [
    {
     "data": {
      "text/plain": [
       "1.222"
      ]
     },
     "execution_count": 34,
     "metadata": {},
     "output_type": "execute_result"
    }
   ],
   "source": [
    "round(1.22222, 3)"
   ]
  },
  {
   "cell_type": "markdown",
   "metadata": {
    "slideshow": {
     "slide_type": "slide"
    }
   },
   "source": [
    "### Avaliação aninhada\n",
    "\n",
    "Podemos **aninhar** muitas chamadas de função para avaliar expressões sofisticadas."
   ]
  },
  {
   "cell_type": "code",
   "execution_count": 35,
   "metadata": {
    "execution": {
     "iopub.execute_input": "2025-03-30T17:47:09.496361Z",
     "iopub.status.busy": "2025-03-30T17:47:09.496258Z",
     "iopub.status.idle": "2025-03-30T17:47:09.498652Z",
     "shell.execute_reply": "2025-03-30T17:47:09.498371Z"
    }
   },
   "outputs": [
    {
     "data": {
      "text/plain": [
       "1"
      ]
     },
     "execution_count": 35,
     "metadata": {},
     "output_type": "execute_result"
    }
   ],
   "source": [
    "min(abs(max(-1, -2, -3, min(4, -2))), max(5, 100))"
   ]
  },
  {
   "cell_type": "markdown",
   "metadata": {
    "slideshow": {
     "slide_type": "fragment"
    }
   },
   "source": [
    "...como isso funcionou?"
   ]
  },
  {
   "cell_type": "code",
   "execution_count": 36,
   "metadata": {
    "execution": {
     "iopub.execute_input": "2025-03-30T17:47:09.499949Z",
     "iopub.status.busy": "2025-03-30T17:47:09.499841Z",
     "iopub.status.idle": "2025-03-30T17:47:09.502110Z",
     "shell.execute_reply": "2025-03-30T17:47:09.501866Z"
    },
    "scrolled": false,
    "slideshow": {
     "slide_type": "fragment"
    }
   },
   "outputs": [
    {
     "data": {
      "text/html": [
       "\n",
       "        <iframe\n",
       "            width=\"960\"\n",
       "            height=\"569\"\n",
       "            src=\"https://docs.google.com/presentation/d/e/2PACX-1vQpW0NzwT3LjZsIIDAgtSMRM1cl41Gp_Lf8k9GT-gm5sGAIynw4rsgiEFbIybClD6QtxarKaVKLbR9U/embed?start=false&loop=false&delayms=60000\" frameborder=\"0\" width=\"960\" height=\"569\" allowfullscreen=\"true\" mozallowfullscreen=\"true\" webkitallowfullscreen=\"true\"\"\n",
       "            frameborder=\"0\"\n",
       "            allowfullscreen\n",
       "            \n",
       "        ></iframe>\n",
       "        "
      ],
      "text/plain": [
       "<IPython.lib.display.IFrame at 0x7f05cb6f40e0>"
      ]
     },
     "execution_count": 36,
     "metadata": {},
     "output_type": "execute_result"
    }
   ],
   "source": [
    "show_nested_eval()"
   ]
  },
  {
   "cell_type": "markdown",
   "metadata": {
    "slideshow": {
     "slide_type": "slide"
    }
   },
   "source": [
    "### Importar instruções\n",
    "- Python não tem tudo que precisamos integrado.\n",
    "- Para obter funcionalidades adicionais, importamos **módulos** por meio de **instruções de importação**.\n",
    "- **Módulos** podem ser considerados coleções de funções e valores Python.\n",
    "- Chame essas funções usando a sintaxe `module.function()`, chamada \"notação de ponto\"."
   ]
  },
  {
   "cell_type": "markdown",
   "metadata": {
    "slideshow": {
     "slide_type": "slide"
    }
   },
   "source": [
    "### Exemplo: `import math`\n",
    "\n",
    "`sqrt`, `log`, `pow`, etc."
   ]
  },
  {
   "cell_type": "code",
   "execution_count": 37,
   "metadata": {
    "execution": {
     "iopub.execute_input": "2025-03-30T17:47:09.503520Z",
     "iopub.status.busy": "2025-03-30T17:47:09.503288Z",
     "iopub.status.idle": "2025-03-30T17:47:09.505032Z",
     "shell.execute_reply": "2025-03-30T17:47:09.504750Z"
    }
   },
   "outputs": [],
   "source": [
    "import math"
   ]
  },
  {
   "cell_type": "code",
   "execution_count": 38,
   "metadata": {
    "execution": {
     "iopub.execute_input": "2025-03-30T17:47:09.506434Z",
     "iopub.status.busy": "2025-03-30T17:47:09.506201Z",
     "iopub.status.idle": "2025-03-30T17:47:09.508336Z",
     "shell.execute_reply": "2025-03-30T17:47:09.508064Z"
    }
   },
   "outputs": [
    {
     "data": {
      "text/plain": [
       "3.0"
      ]
     },
     "execution_count": 38,
     "metadata": {},
     "output_type": "execute_result"
    }
   ],
   "source": [
    "math.sqrt(9)"
   ]
  },
  {
   "cell_type": "code",
   "execution_count": 39,
   "metadata": {
    "execution": {
     "iopub.execute_input": "2025-03-30T17:47:09.509652Z",
     "iopub.status.busy": "2025-03-30T17:47:09.509469Z",
     "iopub.status.idle": "2025-03-30T17:47:09.511658Z",
     "shell.execute_reply": "2025-03-30T17:47:09.511381Z"
    }
   },
   "outputs": [
    {
     "data": {
      "text/plain": [
       "9.0"
      ]
     },
     "execution_count": 39,
     "metadata": {},
     "output_type": "execute_result"
    }
   ],
   "source": [
    "math.pow(3, 2)"
   ]
  },
  {
   "cell_type": "code",
   "execution_count": 40,
   "metadata": {
    "execution": {
     "iopub.execute_input": "2025-03-30T17:47:09.512892Z",
     "iopub.status.busy": "2025-03-30T17:47:09.512703Z",
     "iopub.status.idle": "2025-03-30T17:47:09.514582Z",
     "shell.execute_reply": "2025-03-30T17:47:09.514303Z"
    }
   },
   "outputs": [],
   "source": [
    "# What base is log?\n",
    "math.log?"
   ]
  },
  {
   "cell_type": "markdown",
   "metadata": {
    "slideshow": {
     "slide_type": "fragment"
    }
   },
   "source": [
    "Ele também possui constantes integradas!"
   ]
  },
  {
   "cell_type": "code",
   "execution_count": 41,
   "metadata": {
    "execution": {
     "iopub.execute_input": "2025-03-30T17:47:09.515974Z",
     "iopub.status.busy": "2025-03-30T17:47:09.515837Z",
     "iopub.status.idle": "2025-03-30T17:47:09.518035Z",
     "shell.execute_reply": "2025-03-30T17:47:09.517766Z"
    }
   },
   "outputs": [
    {
     "data": {
      "text/plain": [
       "3.141592653589793"
      ]
     },
     "execution_count": 41,
     "metadata": {},
     "output_type": "execute_result"
    }
   ],
   "source": [
    "math.pi"
   ]
  },
  {
   "cell_type": "markdown",
   "metadata": {
    "slideshow": {
     "slide_type": "slide"
    }
   },
   "source": [
    "### Verificação de conceito ✅\n",
    "\n",
    "Suponha que você executou as seguintes instruções:\n",
    "\n",
    "```py\n",
    "x = 3\n",
    "y = -2\n",
    "```\n",
    "\n",
    "Qual desses exemplos resulta em um erro?\n",
    "\n",
    "A. `abs(x, y)`\n",
    "\n",
    "B. `math.pow(x, abs(y))`\n",
    "\n",
    "C. `round(x, max (abs (y ** 2)))`\n",
    "\n",
    "D. `math.pow(x, math.pow(y, x))`\n",
    "\n",
    "E. Mais de um dos itens acima"
   ]
  },
  {
   "cell_type": "code",
   "execution_count": null,
   "metadata": {
    "slideshow": {
     "slide_type": "-"
    }
   },
   "outputs": [],
   "source": []
  },
  {
   "cell_type": "markdown",
   "metadata": {
    "slideshow": {
     "slide_type": "slide"
    }
   },
   "source": [
    "## Tipos de dados"
   ]
  },
  {
   "cell_type": "markdown",
   "metadata": {
    "slideshow": {
     "slide_type": "slide"
    }
   },
   "source": [
    "### Qual é a diferença? 🧐"
   ]
  },
  {
   "cell_type": "code",
   "execution_count": 42,
   "metadata": {
    "execution": {
     "iopub.execute_input": "2025-03-30T17:47:09.519615Z",
     "iopub.status.busy": "2025-03-30T17:47:09.519450Z",
     "iopub.status.idle": "2025-03-30T17:47:09.521634Z",
     "shell.execute_reply": "2025-03-30T17:47:09.521376Z"
    }
   },
   "outputs": [
    {
     "data": {
      "text/plain": [
       "2.0"
      ]
     },
     "execution_count": 42,
     "metadata": {},
     "output_type": "execute_result"
    }
   ],
   "source": [
    "4 / 2"
   ]
  },
  {
   "cell_type": "code",
   "execution_count": 43,
   "metadata": {
    "execution": {
     "iopub.execute_input": "2025-03-30T17:47:09.522989Z",
     "iopub.status.busy": "2025-03-30T17:47:09.522825Z",
     "iopub.status.idle": "2025-03-30T17:47:09.525068Z",
     "shell.execute_reply": "2025-03-30T17:47:09.524776Z"
    }
   },
   "outputs": [
    {
     "data": {
      "text/plain": [
       "2"
      ]
     },
     "execution_count": 43,
     "metadata": {},
     "output_type": "execute_result"
    }
   ],
   "source": [
    "5 - 3"
   ]
  },
  {
   "cell_type": "markdown",
   "metadata": {
    "slideshow": {
     "slide_type": "fragment"
    }
   },
   "source": [
    "Para nós, `2.0` e `2` são o mesmo número, $2$. Mas para Python, isso parece ser diferente!"
   ]
  },
  {
   "cell_type": "markdown",
   "metadata": {
    "slideshow": {
     "slide_type": "slide"
    }
   },
   "source": [
    "### Tipos de dados\n",
    "- Todo valor em Python tem um **tipo**.\n",
    "- Use a função `type` para verificar o tipo de um valor.\n",
    "- É importante entender como diferentes tipos funcionam com diferentes operações, pois os resultados podem nem sempre ser os que esperamos."
   ]
  },
  {
   "cell_type": "markdown",
   "metadata": {
    "slideshow": {
     "slide_type": "slide"
    }
   },
   "source": [
    "### Dois tipos de dados numéricos: ```int``` e ```float```\n",
    "- ```int``` : Um número inteiro de qualquer tamanho.\n",
    "- ```float```: Um número com ponto decimal."
   ]
  },
  {
   "cell_type": "markdown",
   "metadata": {
    "slideshow": {
     "slide_type": "slide"
    }
   },
   "source": [
    "### ```int```\n",
    "- Se você usar essas operações entre `int`s (`+`, `-`, `*`, `**`), o resultado será outro `int`.\n",
    "- `int`s têm precisão arbitrária em Python, o que significa que seus cálculos serão sempre exatos."
   ]
  },
  {
   "cell_type": "code",
   "execution_count": 44,
   "metadata": {
    "execution": {
     "iopub.execute_input": "2025-03-30T17:47:09.526617Z",
     "iopub.status.busy": "2025-03-30T17:47:09.526440Z",
     "iopub.status.idle": "2025-03-30T17:47:09.528619Z",
     "shell.execute_reply": "2025-03-30T17:47:09.528342Z"
    }
   },
   "outputs": [
    {
     "data": {
      "text/plain": [
       "8"
      ]
     },
     "execution_count": 44,
     "metadata": {},
     "output_type": "execute_result"
    }
   ],
   "source": [
    "3 + 5"
   ]
  },
  {
   "cell_type": "code",
   "execution_count": 45,
   "metadata": {
    "execution": {
     "iopub.execute_input": "2025-03-30T17:47:09.530112Z",
     "iopub.status.busy": "2025-03-30T17:47:09.529929Z",
     "iopub.status.idle": "2025-03-30T17:47:09.532129Z",
     "shell.execute_reply": "2025-03-30T17:47:09.531864Z"
    }
   },
   "outputs": [
    {
     "data": {
      "text/plain": [
       "int"
      ]
     },
     "execution_count": 45,
     "metadata": {},
     "output_type": "execute_result"
    }
   ],
   "source": [
    "type(3 + 5)"
   ]
  },
  {
   "cell_type": "code",
   "execution_count": 46,
   "metadata": {
    "execution": {
     "iopub.execute_input": "2025-03-30T17:47:09.533547Z",
     "iopub.status.busy": "2025-03-30T17:47:09.533344Z",
     "iopub.status.idle": "2025-03-30T17:47:09.535516Z",
     "shell.execute_reply": "2025-03-30T17:47:09.535242Z"
    }
   },
   "outputs": [
    {
     "data": {
      "text/plain": [
       "2037035976334486086268445688409378161051468393665936250636140449354381299763336706183397376"
      ]
     },
     "execution_count": 46,
     "metadata": {},
     "output_type": "execute_result"
    }
   ],
   "source": [
    "2 ** 300"
   ]
  },
  {
   "cell_type": "code",
   "execution_count": 47,
   "metadata": {
    "execution": {
     "iopub.execute_input": "2025-03-30T17:47:09.537173Z",
     "iopub.status.busy": "2025-03-30T17:47:09.537049Z",
     "iopub.status.idle": "2025-03-30T17:47:09.539248Z",
     "shell.execute_reply": "2025-03-30T17:47:09.538987Z"
    },
    "scrolled": true
   },
   "outputs": [
    {
     "data": {
      "text/plain": [
       "1230231922161117176931558813276752514640713895736833715766118029160058800614672948775360067838593459582429649254051804908512884180898236823585082482065348331234959350355845017413023320111360666922624728239756880416434478315693675013413090757208690376793296658810662941824493488451726505303712916005346747908623702673480919353936813105736620402352744776903840477883651100322409301983488363802930540482487909763484098253940728685132044408863734754271212592471778643949486688511721051561970432780747454823776808464180697103083861812184348565522740195796682622205511845512080552010310050255801589349645928001133745474220715013683413907542779063759833876101354235184245096670042160720629411581502371248008430447184842098610320580417992206662247328722122088513643683907670360209162653670641130936997002170500675501374723998766005827579300723253474890612250135171889174899079911291512399773872178519018229989376"
      ]
     },
     "execution_count": 47,
     "metadata": {},
     "output_type": "execute_result"
    }
   ],
   "source": [
    "2 ** 3000"
   ]
  },
  {
   "cell_type": "markdown",
   "metadata": {
    "slideshow": {
     "slide_type": "slide"
    }
   },
   "source": [
    "### ```float```\n",
    "* Um `float` é especificado usando um ponto **decimal**.\n",
    "* Um `float` pode ser impresso usando notação científica."
   ]
  },
  {
   "cell_type": "code",
   "execution_count": 48,
   "metadata": {
    "execution": {
     "iopub.execute_input": "2025-03-30T17:47:09.541034Z",
     "iopub.status.busy": "2025-03-30T17:47:09.540837Z",
     "iopub.status.idle": "2025-03-30T17:47:09.543063Z",
     "shell.execute_reply": "2025-03-30T17:47:09.542792Z"
    }
   },
   "outputs": [
    {
     "data": {
      "text/plain": [
       "5.2"
      ]
     },
     "execution_count": 48,
     "metadata": {},
     "output_type": "execute_result"
    }
   ],
   "source": [
    "2.0 + 3.2"
   ]
  },
  {
   "cell_type": "code",
   "execution_count": 49,
   "metadata": {
    "execution": {
     "iopub.execute_input": "2025-03-30T17:47:09.544745Z",
     "iopub.status.busy": "2025-03-30T17:47:09.544576Z",
     "iopub.status.idle": "2025-03-30T17:47:09.546799Z",
     "shell.execute_reply": "2025-03-30T17:47:09.546539Z"
    }
   },
   "outputs": [
    {
     "data": {
      "text/plain": [
       "float"
      ]
     },
     "execution_count": 49,
     "metadata": {},
     "output_type": "execute_result"
    }
   ],
   "source": [
    "type(2.0 + 3.2)"
   ]
  },
  {
   "cell_type": "code",
   "execution_count": 50,
   "metadata": {
    "execution": {
     "iopub.execute_input": "2025-03-30T17:47:09.548388Z",
     "iopub.status.busy": "2025-03-30T17:47:09.548123Z",
     "iopub.status.idle": "2025-03-30T17:47:09.550437Z",
     "shell.execute_reply": "2025-03-30T17:47:09.550183Z"
    }
   },
   "outputs": [
    {
     "data": {
      "text/plain": [
       "2.037035976334486e+90"
      ]
     },
     "execution_count": 50,
     "metadata": {},
     "output_type": "execute_result"
    }
   ],
   "source": [
    "2.0 ** 300"
   ]
  },
  {
   "cell_type": "markdown",
   "metadata": {
    "slideshow": {
     "slide_type": "slide"
    }
   },
   "source": [
    "### As armadilhas do ```float```\n",
    "* `float`s têm tamanho limitado (mas o limite é enorme).\n",
    "* `float`s têm precisão limitada de 15-16 casas decimais.\n",
    "* Depois da aritmética, as últimas casas decimais podem estar erradas de maneiras inesperadas (precisão limitada!)."
   ]
  },
  {
   "cell_type": "code",
   "execution_count": 51,
   "metadata": {
    "execution": {
     "iopub.execute_input": "2025-03-30T17:47:09.551816Z",
     "iopub.status.busy": "2025-03-30T17:47:09.551685Z",
     "iopub.status.idle": "2025-03-30T17:47:09.553845Z",
     "shell.execute_reply": "2025-03-30T17:47:09.553581Z"
    },
    "slideshow": {
     "slide_type": "-"
    }
   },
   "outputs": [
    {
     "data": {
      "text/plain": [
       "1.2"
      ]
     },
     "execution_count": 51,
     "metadata": {},
     "output_type": "execute_result"
    }
   ],
   "source": [
    "1 + 0.2"
   ]
  },
  {
   "cell_type": "code",
   "execution_count": 52,
   "metadata": {
    "execution": {
     "iopub.execute_input": "2025-03-30T17:47:09.555285Z",
     "iopub.status.busy": "2025-03-30T17:47:09.555090Z",
     "iopub.status.idle": "2025-03-30T17:47:09.557405Z",
     "shell.execute_reply": "2025-03-30T17:47:09.557138Z"
    },
    "tags": [
     "raises-exception"
    ]
   },
   "outputs": [
    {
     "data": {
      "text/plain": [
       "1.2000000000000002"
      ]
     },
     "execution_count": 52,
     "metadata": {},
     "output_type": "execute_result"
    }
   ],
   "source": [
    "1 + 0.1 + 0.1"
   ]
  },
  {
   "cell_type": "code",
   "execution_count": 53,
   "metadata": {
    "execution": {
     "iopub.execute_input": "2025-03-30T17:47:09.558678Z",
     "iopub.status.busy": "2025-03-30T17:47:09.558577Z",
     "iopub.status.idle": "2025-03-30T17:47:09.560183Z",
     "shell.execute_reply": "2025-03-30T17:47:09.559919Z"
    }
   },
   "outputs": [],
   "source": [
    "# Descomente e execute\n",
    "# 2.0 ** 3000"
   ]
  },
  {
   "cell_type": "markdown",
   "metadata": {
    "slideshow": {
     "slide_type": "slide"
    }
   },
   "source": [
    "### Coerção de tipo entre ```int``` e ```float```\n",
    "- Por padrão, Python muda um `int` para um `float` em uma expressão mista envolvendo ambos os tipos.\n",
    "- Observe que a divisão de dois `int`s retorna automaticamente um valor `float`.\n",
    "- Um valor pode ser explicitamente **coagido** (ou seja, convertido) usando as funções ```int``` e ```float```."
   ]
  },
  {
   "cell_type": "code",
   "execution_count": 54,
   "metadata": {
    "execution": {
     "iopub.execute_input": "2025-03-30T17:47:09.561449Z",
     "iopub.status.busy": "2025-03-30T17:47:09.561343Z",
     "iopub.status.idle": "2025-03-30T17:47:09.563493Z",
     "shell.execute_reply": "2025-03-30T17:47:09.563224Z"
    },
    "slideshow": {
     "slide_type": "-"
    }
   },
   "outputs": [
    {
     "data": {
      "text/plain": [
       "5.0"
      ]
     },
     "execution_count": 54,
     "metadata": {},
     "output_type": "execute_result"
    }
   ],
   "source": [
    "2.0 + 3"
   ]
  },
  {
   "cell_type": "code",
   "execution_count": 55,
   "metadata": {
    "execution": {
     "iopub.execute_input": "2025-03-30T17:47:09.564757Z",
     "iopub.status.busy": "2025-03-30T17:47:09.564652Z",
     "iopub.status.idle": "2025-03-30T17:47:09.567085Z",
     "shell.execute_reply": "2025-03-30T17:47:09.566786Z"
    }
   },
   "outputs": [
    {
     "data": {
      "text/plain": [
       "2.0"
      ]
     },
     "execution_count": 55,
     "metadata": {},
     "output_type": "execute_result"
    }
   ],
   "source": [
    "2 / 1"
   ]
  },
  {
   "cell_type": "code",
   "execution_count": 56,
   "metadata": {
    "execution": {
     "iopub.execute_input": "2025-03-30T17:47:09.568870Z",
     "iopub.status.busy": "2025-03-30T17:47:09.568545Z",
     "iopub.status.idle": "2025-03-30T17:47:09.571140Z",
     "shell.execute_reply": "2025-03-30T17:47:09.570824Z"
    }
   },
   "outputs": [
    {
     "data": {
      "text/plain": [
       "2"
      ]
     },
     "execution_count": 56,
     "metadata": {},
     "output_type": "execute_result"
    }
   ],
   "source": [
    "# Want an integer back\n",
    "int(2 / 1)"
   ]
  },
  {
   "cell_type": "code",
   "execution_count": 57,
   "metadata": {
    "execution": {
     "iopub.execute_input": "2025-03-30T17:47:09.572485Z",
     "iopub.status.busy": "2025-03-30T17:47:09.572380Z",
     "iopub.status.idle": "2025-03-30T17:47:09.574840Z",
     "shell.execute_reply": "2025-03-30T17:47:09.574553Z"
    }
   },
   "outputs": [
    {
     "data": {
      "text/plain": [
       "3"
      ]
     },
     "execution_count": 57,
     "metadata": {},
     "output_type": "execute_result"
    }
   ],
   "source": [
    "# int chops off the decimal point, effectively rounding DOWN\n",
    "int(3.9)"
   ]
  },
  {
   "cell_type": "markdown",
   "metadata": {
    "slideshow": {
     "slide_type": "slide"
    }
   },
   "source": [
    "### À parte: modelo de memória Jupyter\n",
    "\n",
    "<center><img src='https://raw.githubusercontent.com/flaviovdf/fcd/master/assets/03-Expressoes/images/elephant.png' width=20%></center>\n",
    "\n",
    "Nosso caderno **ainda** lembra todas as variáveis ​​que definimos anteriormente na aula."
   ]
  },
  {
   "cell_type": "code",
   "execution_count": 58,
   "metadata": {
    "execution": {
     "iopub.execute_input": "2025-03-30T17:47:09.576192Z",
     "iopub.status.busy": "2025-03-30T17:47:09.576089Z",
     "iopub.status.idle": "2025-03-30T17:47:09.578650Z",
     "shell.execute_reply": "2025-03-30T17:47:09.578294Z"
    }
   },
   "outputs": [
    {
     "data": {
      "text/plain": [
       "10"
      ]
     },
     "execution_count": 58,
     "metadata": {},
     "output_type": "execute_result"
    }
   ],
   "source": [
    "more_than_1"
   ]
  },
  {
   "cell_type": "markdown",
   "metadata": {
    "slideshow": {
     "slide_type": "fragment"
    }
   },
   "source": [
    "- No entanto, se você voltar ao seu notebook depois de algumas horas, ele normalmente “esquecerá” todas as variáveis ​​que conhecia.\n",
    "- Quando isso acontecer, você precisará executar novamente as células do seu notebook."
   ]
  },
  {
   "cell_type": "markdown",
   "metadata": {
    "slideshow": {
     "slide_type": "slide"
    }
   },
   "source": [
    "## Resumo, da próxima vez"
   ]
  },
  {
   "cell_type": "markdown",
   "metadata": {
    "slideshow": {
     "slide_type": "slide"
    }
   },
   "source": [
    "### Resumo\n",
    "\n",
    "- Expressões são avaliadas como valores. Python exibirá o valor da última expressão em uma célula por padrão.\n",
    "- Python conhece todos os operadores matemáticos padrão e segue PEMDAS.\n",
    "- As instruções de atribuição nos permitem vincular valores a variáveis.\n",
    "- Podemos chamar funções em Python da mesma forma que chamamos funções em matemática.\n",
    "- Python conhece algumas funções por padrão, e as instruções de importação nos permitem trazer funcionalidades adicionais dos módulos.\n",
    "- Todos os valores em Python possuem um tipo de dados.\n",
    "- `int`s e `float`s são números.\n",
    "- `int`s são inteiros, enquanto `float`s contêm pontos decimais."
   ]
  },
  {
   "cell_type": "markdown",
   "metadata": {
    "slideshow": {
     "slide_type": "slide"
    }
   },
   "source": [
    "### Próxima vez\n",
    "\n",
    "- Aprenderemos sobre strings, um tipo de dados em Python projetado para armazenar texto.\n",
    "- Também aprenderemos como armazenar sequências, ou muitas informações, em uma única variável.\n",
    "\n",
    "**Observação:** Apresentaremos alguns códigos em laboratórios e trabalhos de casa também. Nem tudo estará em palestra. **Você aprenderá fazendo!**"
   ]
  }
 ],
 "metadata": {
  "kernelspec": {
   "display_name": "Python 3 (ipykernel)",
   "language": "python",
   "name": "python3"
  },
  "language_info": {
   "codemirror_mode": {
    "name": "ipython",
    "version": 3
   },
   "file_extension": ".py",
   "mimetype": "text/x-python",
   "name": "python",
   "nbconvert_exporter": "python",
   "pygments_lexer": "ipython3",
   "version": "3.12.7"
  },
  "livereveal": {
   "scroll": true,
   "transition": "none"
  },
  "rise": {
   "enable_chalkboard": true
  }
 },
 "nbformat": 4,
 "nbformat_minor": 2
}
